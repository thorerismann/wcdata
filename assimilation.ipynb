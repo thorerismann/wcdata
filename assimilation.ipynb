{
 "cells": [
  {
   "cell_type": "markdown",
   "id": "952ffc19-b67e-4c88-8937-6a1d5a91c6a0",
   "metadata": {},
   "source": [
    "## Data Assimilation"
   ]
  },
  {
   "cell_type": "code",
   "execution_count": 8,
   "id": "3d35c1c4-3d68-4bdd-b8f3-4f5ad624af70",
   "metadata": {
    "tags": []
   },
   "outputs": [],
   "source": [
    "# import packages\n",
    "\n",
    "import pandas as pd\n",
    "import os\n",
    "import sys\n",
    "import datetime as dt\n",
    "import csv\n",
    "import math\n",
    "import numpy as np\n",
    "import matplotlib as mpl\n",
    "import matplotlib.pyplot as plt\n",
    "from matplotlib import colors\n",
    "import seaborn as sns\n",
    "import matplotlib.dates as mdates\n",
    "\n",
    "\n",
    "# read in the data\n",
    "mypd = pd.read_csv(\"Reanalysis_DataAssimilation_Exercise1.csv\",sep = \";\", decimal = \",\")\n"
   ]
  },
  {
   "cell_type": "markdown",
   "id": "f9691878-6b17-4746-898b-5d8a3192d4a1",
   "metadata": {},
   "source": [
    "## Question 1 Kalman Filter\n",
    "*Assume that you have a substance that decays radioactively and you want to esimate the amount remaining (or radioactivity)...In addition, you have observations of a Geiger counter (in counts/s). The error of the observation is 2 counts/s, the error of the model is not constant but depends on value; the numbers are are already calculated for you...Now do the assimilation over the first 20 s*"
   ]
  },
  {
   "cell_type": "code",
   "execution_count": 10,
   "id": "ab22518e-668c-4d24-9697-de326b033f13",
   "metadata": {},
   "outputs": [],
   "source": [
    "# defines forecast model\n",
    "def first_func(i,x):\n",
    "    # apply model formula to passed x\n",
    "    data = x*math.exp(-0.5)\n",
    "    # assign value to xb at index i\n",
    "    mypd.at[i,\"xb\"] = data\n",
    "    return\n",
    "\n",
    "# defines assimilation formula\n",
    "def second_func(i,x):\n",
    "    # select the standard deviation for this observation\n",
    "    sb = mypd.at[i,\"_b2\"]\n",
    "    # next steps applies formula\n",
    "    constant = sb/(sb+2)\n",
    "    step1 = mypd.at[i,\"y\"]-mypd.at[i,\"xb\"]\n",
    "    step2= step1*constant\n",
    "    step3 = mypd.at[i,\"xb\"] + step2\n",
    "    #assigns value to x at index i\n",
    "    data = step3\n",
    "    mypd.at[i,\"x\"] = data\n",
    "    return\n",
    "\n",
    "i = 0\n",
    "while i < 21:\n",
    "    if i == 0:\n",
    "        # initial case, sets first value\n",
    "        first_func(1,1000)\n",
    "        second_func(i,mypd.at[i,\"xb\"])\n",
    "    else:\n",
    "        # all other cases, calls first_func on previous index, second_func on current index\n",
    "        first_func(i,mypd.at[i-1,\"x\"])\n",
    "        second_func(i,mypd.at[i,\"xb\"])\n",
    "    \n",
    "    #updates the counter variable\n",
    "    i = i+1"
   ]
  },
  {
   "cell_type": "markdown",
   "id": "c89211dd-018b-4863-aa9b-7e75468f4482",
   "metadata": {},
   "source": [
    "## Question 2 Football example"
   ]
  },
  {
   "cell_type": "code",
   "execution_count": null,
   "id": "f20f7cb8-0214-4a8d-92b2-7bf01a02b73a",
   "metadata": {},
   "outputs": [],
   "source": [
    "# some code"
   ]
  }
 ],
 "metadata": {
  "kernelspec": {
   "display_name": "Python 3 (ipykernel)",
   "language": "python",
   "name": "python3"
  },
  "language_info": {
   "codemirror_mode": {
    "name": "ipython",
    "version": 3
   },
   "file_extension": ".py",
   "mimetype": "text/x-python",
   "name": "python",
   "nbconvert_exporter": "python",
   "pygments_lexer": "ipython3",
   "version": "3.8.12"
  }
 },
 "nbformat": 4,
 "nbformat_minor": 5
}
