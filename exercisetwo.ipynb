{
 "cells": [
  {
   "cell_type": "markdown",
   "id": "20ba3851-8ee6-4e56-bbea-14ce3deb0964",
   "metadata": {},
   "source": [
    "## Exercise 2 \"Quality Control\"\n"
   ]
  },
  {
   "cell_type": "code",
   "execution_count": 2,
   "id": "33432e03-6f95-4163-afc2-b55a0db7200f",
   "metadata": {},
   "outputs": [],
   "source": [
    "# import packages and data\n",
    "\n",
    "import pandas as pd\n",
    "import os\n",
    "import sys\n",
    "import datetime as dt\n",
    "import json\n",
    "import csv\n",
    "import math\n",
    "import matplotlib as mpl\n",
    "import matplotlib.pyplot as plt\n",
    "from matplotlib import colors\n",
    "import seaborn as sns\n",
    "import matplotlib.ticker as ticker\n",
    "import matplotlib.dates as mdates\n",
    "from matplotlib.gridspec import GridSpec\n",
    "import matplotlib.image as mpimg\n",
    "\n",
    "mypd = pd.read_csv(\"exercise1.csv\")"
   ]
  },
  {
   "cell_type": "code",
   "execution_count": null,
   "id": "39cb0bcb-dd99-438e-b9f1-5f7f614e04c1",
   "metadata": {},
   "outputs": [],
   "source": []
  }
 ],
 "metadata": {
  "kernelspec": {
   "display_name": "Python 3 (ipykernel)",
   "language": "python",
   "name": "python3"
  },
  "language_info": {
   "codemirror_mode": {
    "name": "ipython",
    "version": 3
   },
   "file_extension": ".py",
   "mimetype": "text/x-python",
   "name": "python",
   "nbconvert_exporter": "python",
   "pygments_lexer": "ipython3",
   "version": "3.8.12"
  }
 },
 "nbformat": 4,
 "nbformat_minor": 5
}
