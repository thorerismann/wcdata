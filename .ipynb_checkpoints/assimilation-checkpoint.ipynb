{
 "cells": [
  {
   "cell_type": "markdown",
   "id": "952ffc19-b67e-4c88-8937-6a1d5a91c6a0",
   "metadata": {},
   "source": [
    "## Data Assimilation"
   ]
  },
  {
   "cell_type": "code",
   "execution_count": 276,
   "id": "3d35c1c4-3d68-4bdd-b8f3-4f5ad624af70",
   "metadata": {
    "tags": []
   },
   "outputs": [],
   "source": [
    "# import packages\n",
    "\n",
    "import pandas as pd\n",
    "import os\n",
    "import sys\n",
    "import datetime as dt\n",
    "import csv\n",
    "import math\n",
    "import numpy as np\n",
    "import matplotlib as mpl\n",
    "import matplotlib.pyplot as plt\n",
    "from matplotlib import colors\n",
    "import seaborn as sns\n",
    "import matplotlib.dates as mdates\n",
    "\n",
    "\n",
    "# read in the data\n",
    "mypd = pd.read_csv(\"Reanalysis_DataAssimilation_Exercise1.csv\",sep = \";\", decimal = \",\")"
   ]
  },
  {
   "cell_type": "markdown",
   "id": "f9691878-6b17-4746-898b-5d8a3192d4a1",
   "metadata": {},
   "source": [
    "## Question 1 Kalman Filter\n",
    "*Assume that you have a substance that decays radioactively and you want to esimate the amount remaining (or radioactivity)...In addition, you have observations of a Geiger counter (in counts/s). The error of the observation is 2 counts/s, the error of the model is not constant but depends on value; the numbers are are already calculated for you...Now do the assimilation over the first 20 s*"
   ]
  },
  {
   "cell_type": "code",
   "execution_count": 277,
   "id": "ab22518e-668c-4d24-9697-de326b033f13",
   "metadata": {},
   "outputs": [],
   "source": [
    "# defines forecast model\n",
    "def first_func(i,x):\n",
    "    # apply model formula to passed x\n",
    "    data = x*math.exp(-0.5)\n",
    "    # assign value to xb at index i\n",
    "    mypd.at[i,\"xb\"] = data\n",
    "    return\n",
    "\n",
    "# defines assimilation formula\n",
    "def second_func(i,x):\n",
    "    # select the standard deviation for this observation\n",
    "    sb = mypd.at[i,\"_b2\"]\n",
    "    # next steps applies formula\n",
    "    constant = sb/(sb+2)\n",
    "    step1 = mypd.at[i,\"y\"]-mypd.at[i,\"xb\"]\n",
    "    step2= step1*constant\n",
    "    step3 = mypd.at[i,\"xb\"] + step2\n",
    "    #assigns value to x at index i\n",
    "    data = step3\n",
    "    mypd.at[i,\"x\"] = data\n",
    "    return\n",
    "\n",
    "i = 0\n",
    "while i < 21:\n",
    "    if i == 0:\n",
    "        # initial case, sets first value\n",
    "        first_func(1,1000)\n",
    "        second_func(i,mypd.at[i,\"xb\"])\n",
    "    else:\n",
    "        # all other cases, calls first_func on previous index, second_func on current index\n",
    "        first_func(i,mypd.at[i-1,\"x\"])\n",
    "        second_func(i,mypd.at[i,\"xb\"])\n",
    "    \n",
    "    #updates the counter variable\n",
    "    i = i+1"
   ]
  },
  {
   "cell_type": "markdown",
   "id": "c89211dd-018b-4863-aa9b-7e75468f4482",
   "metadata": {},
   "source": [
    "## Question 2 Football example"
   ]
  },
  {
   "cell_type": "code",
   "execution_count": 278,
   "id": "3a9a3155-ee61-4c02-8ed1-0fb41328e2c8",
   "metadata": {},
   "outputs": [],
   "source": [
    "# read in data\n",
    "mydf = pd.read_csv(\"Reanalysis_DataAssimilation_Exercise2.csv\")\n",
    "\n",
    "# declare needed constants\n",
    "g = 9.80665\n",
    "a = 44.2\n",
    "b = .01\n",
    "r = 9\n",
    "k = 500\n",
    "const = a*b/(a*a*b+r) "
   ]
  },
  {
   "cell_type": "code",
   "execution_count": 279,
   "id": "297ed8a0-1412-4da4-a1c2-3fb60c33b45a",
   "metadata": {},
   "outputs": [],
   "source": [
    "def forecast_func(i):\n",
    "    # forecast xb(t)  from x(t-1)\n",
    "    mydf.at[i,\"xb\"] = mydf.at[i-1,\"x\"]+ mydf.at[i-1,\"u\"]*0.1\n",
    "    mydf.at[i,\"zb\"] = mydf.at[i-1,\"zed\"]+ mydf.at[i-1,\"w\"]*0.1-0.5*g*.01\n",
    "    return\n"
   ]
  },
  {
   "cell_type": "code",
   "execution_count": 280,
   "id": "1617d5df-eeb9-4300-9763-ee3ce11307c3",
   "metadata": {},
   "outputs": [],
   "source": [
    "def correct_func(index):\n",
    "    mydf.at[index,\"x\"] = (mydf.at[index,\"i\"]-a*mydf.at[index,\"xb\"])*const+mydf.at[index,\"xb\"]\n",
    "    mydf.at[index,\"zed\"] = mydf.at[index,\"zb\"]- (mydf.at[index,\"j\"]-(500-a*mydf.at[index,\"zb\"]))*const\n",
    "    return"
   ]
  },
  {
   "cell_type": "code",
   "execution_count": 281,
   "id": "d430f0fb-d551-48bf-94da-b50c62fc5ced",
   "metadata": {},
   "outputs": [],
   "source": [
    "def speed_func(i):\n",
    "    mydf.at[i,\"u\"] = (mydf.at[i,\"x\"]-mydf.at[i-1,\"x\"])/.1\n",
    "    mydf.at[i,\"w\"] = (mydf.at[i,\"zed\"]-mydf.at[i-1,\"zed\"])/.1 - 0.5*g*.1\n",
    "    return"
   ]
  },
  {
   "cell_type": "code",
   "execution_count": 282,
   "id": "5d501d17-340f-466f-b4b0-79546e902604",
   "metadata": {},
   "outputs": [],
   "source": [
    "i = 1\n",
    "while i < 21:\n",
    "    forecast_func(i)\n",
    "    correct_func(i)\n",
    "    speed_func(i)\n",
    "    i = i+1"
   ]
  },
  {
   "cell_type": "code",
   "execution_count": 288,
   "id": "40fad45c-590b-448b-819b-f15d2a15b486",
   "metadata": {},
   "outputs": [
    {
     "data": {
      "text/plain": [
       "<AxesSubplot:xlabel='t (s)'>"
      ]
     },
     "execution_count": 288,
     "metadata": {},
     "output_type": "execute_result"
    },
    {
     "data": {
      "image/png": "[encoded data removed]",
      "text/plain": [
       "<Figure size 432x288 with 1 Axes>"
      ]
     },
     "metadata": {
      "needs_background": "light"
     },
     "output_type": "display_data"
    }
   ],
   "source": [
    "mydata = mydf[[\"t (s)\",\"xb\",\"x\",\"zed\",\"zb\"]].copy()\n",
    "mydata = mydata.pivot_table(index = \"t (s)\")\n",
    "sns.scatterplot(data = mydata)"
   ]
  },
  {
   "cell_type": "code",
   "execution_count": null,
   "id": "ffc9ef95-23f4-4a65-a27e-d1c7a964081c",
   "metadata": {},
   "outputs": [],
   "source": []
  }
 ],
 "metadata": {
  "kernelspec": {
   "display_name": "Python 3 (ipykernel)",
   "language": "python",
   "name": "python3"
  },
  "language_info": {
   "codemirror_mode": {
    "name": "ipython",
    "version": 3
   },
   "file_extension": ".py",
   "mimetype": "text/x-python",
   "name": "python",
   "nbconvert_exporter": "python",
   "pygments_lexer": "ipython3",
   "version": "3.8.12"
  }
 },
 "nbformat": 4,
 "nbformat_minor": 5
}
