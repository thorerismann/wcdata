{
 "cells": [
  {
   "cell_type": "markdown",
   "id": "d497ec7b-310a-4ae5-84ed-18b059e48520",
   "metadata": {},
   "source": [
    "## Weather and Climate Data Exercise One - \"Process\"\n",
    "\n",
    "[Full Question](http://giub-torrent.unibe.ch/weather-simulation/#process)\n",
    "\n",
    "*Convert the pressure readings to gravity-corrected station pressure (in hPa), temperature-adjusted to 0 °C (the present-day standard). If you want you can also reduce pressure to mean sea level*\n",
    "\n",
    "### Notes\n",
    "The original excel file was saved into .txt format with the following modifications:\n",
    "- text set to lowercase\n",
    "- header removed\n",
    "- some columns renamed\n",
    "- pressure_e = sunrise pressure, pressure_t = sunset pressure, idem for temp.\n",
    "- afternoon_r = afternoon rain, morning_r = morning rain, idem for snow"
   ]
  },
  {
   "cell_type": "code",
   "execution_count": 1,
   "id": "0c81a410-cf0f-4b45-9ef8-da6deb4cc816",
   "metadata": {},
   "outputs": [],
   "source": [
    "# import packages\n",
    "import pandas as pd\n",
    "import math\n",
    "\n",
    "# import file into panda dataframe\n",
    "mypd = pd.read_csv(\"ClimateData_Process_Exercise.csv\")"
   ]
  },
  {
   "cell_type": "markdown",
   "id": "bd974121-9d4f-4702-bc8c-4f6be7989300",
   "metadata": {},
   "source": [
    "First, convert the temperature and distance measurements to modern units."
   ]
  },
  {
   "cell_type": "code",
   "execution_count": 2,
   "id": "6e0a9727-2f3a-4e87-bd9e-a4015cf38c69",
   "metadata": {},
   "outputs": [],
   "source": [
    "#set constants, paris inches in millimeters and Celsius in temperature Reamur, respectively\n",
    "pinch = 27.07 \n",
    "tream = 0.8\n",
    "\n",
    "# convert the mercury readings from Paris Inches to millimeters and store values in new columns for calculations\n",
    "mypd[\"p_sunrise\"] = mypd[\"pressure_e\"]*pinch\n",
    "mypd[\"p_sunset\"] = mypd[\"pressure_t\"]*pinch\n",
    "\n",
    "# convert the temperature measurements from Reamur to Celsius\n",
    "mypd[\"temp_sunrise\"] = mypd[\"temperature_e\"]*tream\n",
    "mypd[\"temp_sunset\"] = mypd[\"temperature_t\"]*tream"
   ]
  },
  {
   "cell_type": "markdown",
   "id": "c5a4c159-2787-4f0e-875b-6e327a3734a9",
   "metadata": {},
   "source": [
    "Second, convert the pressure units to readings obtained at 10° Reamur to 0° Celsius"
   ]
  },
  {
   "cell_type": "code",
   "execution_count": 3,
   "id": "d841b019-9ee0-4b0b-aa79-6d6d4449bba9",
   "metadata": {},
   "outputs": [],
   "source": [
    "#convert 10° Reamur to Celsius and store as constant\n",
    "temp = 10/0.8\n",
    "\n",
    "# define lambda function for conversion according to Mercury's coefficient of thermal expansion at 0°C\n",
    "def my_func(x):\n",
    "    data = (1-0.000182*temp)*x\n",
    "    return data\n",
    "\n",
    "# call lambda function on columns containing pressure values\n",
    "mypd.p_sunrise=mypd.p_sunrise.apply(lambda x: my_func(x))\n",
    "mypd.p_sunset=mypd.p_sunset.apply(lambda x: my_func(x))"
   ]
  },
  {
   "cell_type": "markdown",
   "id": "ce3e8c96-411c-4de5-a4cf-dc8516b87d4e",
   "metadata": {},
   "source": [
    "Third, convert the pressure units to modern units hPa"
   ]
  },
  {
   "cell_type": "code",
   "execution_count": 4,
   "id": "38ad76d8-7cb6-450b-a410-0e2f4172b8b7",
   "metadata": {},
   "outputs": [],
   "source": [
    "# define needed constants (standard gravity and mercury's density at 0 degrees celsius respectively)\n",
    "grav = 9.80665\n",
    "ro = 13595.1\n",
    "\n",
    "# define function for conversion from millimters of mercury to modern units hPa\n",
    "def mil_to_hpa(x):\n",
    "    data = ro*grav*x*0.00001\n",
    "    return data\n",
    "\n",
    "# call function on columns containing pressure values\n",
    "mypd.p_sunrise=mypd.p_sunrise.apply(lambda x: mil_to_hpa(x))\n",
    "mypd.p_sunset=mypd.p_sunset.apply(lambda x: mil_to_hpa(x))"
   ]
  },
  {
   "cell_type": "markdown",
   "id": "5b5c6a2e-352f-4415-9e4f-cb4e68cc3e7a",
   "metadata": {},
   "source": [
    "Fourth, correct pressure reading for latitude and altitude. "
   ]
  },
  {
   "cell_type": "code",
   "execution_count": 5,
   "id": "074a3a1b-774b-4c8a-9606-f872f3c7418c",
   "metadata": {},
   "outputs": [],
   "source": [
    "# define constants altitude and latitude of the station\n",
    "alt = 776\n",
    "lat = 0.827\n",
    "\n",
    "#calculate constant using provided formula\n",
    "alt = alt*0.000003086\n",
    "step1=0.0026442*math.cos(2*lat)\n",
    "step2 =0.0000058*math.cos(2*lat)*math.cos(2*lat)\n",
    "constant = (9.80620*(1-step1-step2)-alt)/grav\n",
    "\n",
    "# define function to apply the constant to each pressure reading\n",
    "def lat_alt_correction(x):\n",
    "    data = x*constant\n",
    "    return data\n",
    "\n",
    "mypd.p_sunrise=mypd.p_sunrise.apply(lambda x: lat_alt_correction(x))\n",
    "mypd.p_sunset=mypd.p_sunset.apply(lambda x: lat_alt_correction(x))"
   ]
  },
  {
   "cell_type": "markdown",
   "id": "b2ccbfdd-7bb6-48f9-b315-96f373763ba2",
   "metadata": {},
   "source": [
    "Fifth, correct for mean sea level"
   ]
  },
  {
   "cell_type": "code",
   "execution_count": 6,
   "id": "97fdeedd-1ccc-454c-a1a2-359c6443d199",
   "metadata": {},
   "outputs": [],
   "source": [
    "# Code for mean sea level correction"
   ]
  },
  {
   "cell_type": "code",
   "execution_count": 7,
   "id": "9950d7c5-b286-4c3f-91f9-fb1bb6601c11",
   "metadata": {
    "tags": []
   },
   "outputs": [],
   "source": [
    "#Export corrected dataset for later use\n",
    "mypd.to_csv(path_or_buf = \"exercise1.csv\", index = False)"
   ]
  }
 ],
 "metadata": {
  "kernelspec": {
   "display_name": "Python 3 (ipykernel)",
   "language": "python",
   "name": "python3"
  },
  "language_info": {
   "codemirror_mode": {
    "name": "ipython",
    "version": 3
   },
   "file_extension": ".py",
   "mimetype": "text/x-python",
   "name": "python",
   "nbconvert_exporter": "python",
   "pygments_lexer": "ipython3",
   "version": "3.8.12"
  }
 },
 "nbformat": 4,
 "nbformat_minor": 5
}
