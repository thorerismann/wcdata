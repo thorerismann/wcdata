{
 "cells": [
  {
   "cell_type": "markdown",
   "metadata": {},
   "source": [
    "# Module 1\n",
    "\n",
    "[Weather reconstruction](http://giub-torrent.unibe.ch/weather-simulation/)\n",
    "\n",
    "__Notes__\n",
    "\n",
    "The original excel files were saved into .txt or .csv formats and had some column headers renamed for easy access with \"dot\" notation."
   ]
  },
  {
   "cell_type": "code",
   "execution_count": 1,
   "metadata": {},
   "outputs": [],
   "source": [
    "#import packages\n",
    "\n",
    "import pandas as pd\n",
    "import math\n",
    "import os\n",
    "import sys\n",
    "import datetime as dt\n",
    "import csv\n",
    "import numpy as np\n",
    "import matplotlib as mpl\n",
    "import matplotlib.pyplot as plt\n",
    "from matplotlib import colors\n",
    "import seaborn as sns\n",
    "import matplotlib.dates as mdates\n",
    "\n",
    "#import data for exercise 1\n",
    "pdex = pd.read_csv(\"ClimateData_Process_Exercise.csv\")\n",
    "# use year month day columns to create one date time column to facilitate plotting / analysis\n",
    "pdex[\"md\"] = pd.to_datetime(pdex[[\"year\", \"month\", \"day\"]])\n"
   ]
  },
  {
   "cell_type": "markdown",
   "metadata": {},
   "source": [
    "## Exercise 1 - Process\n",
    "*Convert the pressure readings to gravity-corrected station pressure (in hPa), temperature-adjusted to 0 °C (the present-day standard). If you want you can also reduce pressure to mean sea level*\n",
    "Full question [here](http://giub-torrent.unibe.ch/weather-simulation/#process)"
   ]
  },
  {
   "cell_type": "code",
   "execution_count": 2,
   "metadata": {},
   "outputs": [],
   "source": [
    "## convert temperature\n",
    "\n",
    "#set constants, paris inches in millimeters and Celsius in temperature Reamur, respectively\n",
    "pinch = 27.07 \n",
    "tream = 0.8\n",
    "\n",
    "# convert the mercury readings from Paris Inches to millimeters and store values in new columns for calculations\n",
    "pdex[\"p_sunrise\"] = pdex[\"pressure_e\"]*pinch\n",
    "pdex[\"p_sunset\"] = pdex[\"pressure_t\"]*pinch\n",
    "\n",
    "# convert the temperature measurements from Reamur to Celsius\n",
    "pdex[\"temp_sunrise\"] = pdex[\"temperature_e\"]*tream\n",
    "pdex[\"temp_sunset\"] = pdex[\"temperature_t\"]*tream\n",
    "\n",
    "#convert 10° Reamur to Celsius and store as constant\n",
    "temp = 10/0.8\n",
    "\n",
    "# define lambda function for conversion according to Mercury's coefficient of thermal expansion at 0°C\n",
    "def my_func(x):\n",
    "    data = (1-0.000182*temp)*x\n",
    "    return data\n",
    "\n",
    "# call lambda function on columns containing pressure values\n",
    "pdex.p_sunrise=pdex.p_sunrise.apply(lambda x: my_func(x))\n",
    "pdex.p_sunset=pdex.p_sunset.apply(lambda x: my_func(x))\n",
    "\n",
    "## Convert the pressure units to modern units hPa\n",
    "\n",
    "# define needed constants (standard gravity and mercury's density at 0 degrees celsius respectively)\n",
    "grav = 9.80665\n",
    "ro = 13595.1\n",
    "\n",
    "# define function for conversion from millimters of mercury to modern units hPa\n",
    "def mil_to_hpa(x):\n",
    "    data = ro*grav*x*0.00001\n",
    "    return data\n",
    "\n",
    "# call lambda function on columns containing pressure values\n",
    "pdex.p_sunrise=pdex.p_sunrise.apply(lambda x: mil_to_hpa(x))\n",
    "pdex.p_sunset=pdex.p_sunset.apply(lambda x: mil_to_hpa(x))\n",
    "\n",
    "## Correct pressure reading for lattitude and altitude\n",
    "\n",
    "# define constants altitude and latitude of the station\n",
    "alt = 776\n",
    "lat = 0.827\n",
    "\n",
    "#calculate constant using provided formula\n",
    "alt = alt*0.000003086\n",
    "step1=0.0026442*math.cos(2*lat)\n",
    "step2 =0.0000058*math.cos(2*lat)*math.cos(2*lat)\n",
    "constant = (9.80620*(1-step1-step2)-alt)/grav\n",
    "\n",
    "# define function to apply the constant to each pressure reading\n",
    "def lat_alt_correction(x):\n",
    "    data = x*constant\n",
    "    return data\n",
    "\n",
    "pdex.p_sunrise=pdex.p_sunrise.apply(lambda x: lat_alt_correction(x))\n",
    "pdex.p_sunset=pdex.p_sunset.apply(lambda x: lat_alt_correction(x))"
   ]
  },
  {
   "cell_type": "markdown",
   "metadata": {},
   "source": [
    "## Exercise 2: Quality Control\n",
    "\n",
    "[The Question](http://giub-torrent.unibe.ch/weather-simulation/#quality-control)\n",
    "\n",
    "Use your solution to the previous exercise and search for suspect temperature and pressure values using the four tests described above and by simple plotting. Do you find unplausible values?"
   ]
  },
  {
   "cell_type": "markdown",
   "metadata": {},
   "source": [
    "### Categorical Data\n",
    "\n",
    "- First we take a look at the data in the different categorical columns to identify any invalid entries\n",
    "- Then we convert the date columns to a datetime format to facilitate plotting each of the concerned variables against time and for later use.\n",
    "- Finally, we plot the data for visual inspection."
   ]
  },
  {
   "cell_type": "code",
   "execution_count": 3,
   "metadata": {},
   "outputs": [
    {
     "name": "stdout",
     "output_type": "stream",
     "text": [
      "Dates with incorrect snow and rain values are []\n"
     ]
    }
   ],
   "source": [
    "## Check the binary categorical data for incorrect values (afternoon/morning snow/rain)\n",
    "binary_values = [0,1]\n",
    "pdex_wrong_binary = pdex[(~pdex.morning_s.isin(binary_values))|(~pdex.afternoon_s.isin(binary_values))|(~pdex.afternoon_r.isin(binary_values))|(~pdex.morning_r.isin(binary_values))]\n",
    "print(F\"Dates with incorrect snow and rain values are {pdex_wrong_binary.md.tolist()}\")"
   ]
  },
  {
   "cell_type": "code",
   "execution_count": 4,
   "metadata": {},
   "outputs": [
    {
     "name": "stdout",
     "output_type": "stream",
     "text": [
      "Dates with incorrect wind data are [Timestamp('1816-05-12 00:00:00')]\n"
     ]
    }
   ],
   "source": [
    "## Check the wind categorical data for incorrect values (wind sunrise, wind sunset)\n",
    "wind_values = ['s', 'n', 'no', 'o', 'sw', 'nw', 'so', 'w']\n",
    "pdex_wrong_wind = pdex[(~pdex.wind_e.isin(wind_values))|(~pdex.wind_t.isin(wind_values))]\n",
    "print(F\"Dates with incorrect wind data are {pdex_wrong_wind.md.tolist()}\")"
   ]
  },
  {
   "cell_type": "markdown",
   "metadata": {},
   "source": [
    "### Visual Inspection"
   ]
  },
  {
   "cell_type": "code",
   "execution_count": 5,
   "metadata": {},
   "outputs": [
    {
     "name": "stderr",
     "output_type": "stream",
     "text": [
      "/home/thormakai/anaconda3/lib/python3.7/site-packages/pandas/plotting/_matplotlib/converter.py:103: FutureWarning: Using an implicitly registered datetime converter for a matplotlib plotting method. The converter was registered by pandas on import. Future versions of pandas will require you to explicitly register matplotlib converters.\n",
      "\n",
      "To register the converters:\n",
      "\t>>> from pandas.plotting import register_matplotlib_converters\n",
      "\t>>> register_matplotlib_converters()\n",
      "  warnings.warn(msg, FutureWarning)\n"
     ]
    },
    {
     "data": {
      "image/png": "[encoded data removed]",
      "text/plain": [
       "<Figure size 432x288 with 2 Axes>"
      ]
     },
     "metadata": {
      "needs_background": "light"
     },
     "output_type": "display_data"
    }
   ],
   "source": [
    "## Plot for visual inspection\n",
    "\n",
    "# set up plotting with 2 rows, 1 column, select first subplot space\n",
    "plt.subplot(2, 1, 1)\n",
    "\n",
    "# select elements to plot together, here temperature at sunrise and sunet\n",
    "mydata1 = pdex[[\"md\",\"temp_sunrise\",\"temp_sunset\"]].copy()\n",
    "\n",
    "# set data to wide format indexed on datetime column\n",
    "mydata1 = mydata1.pivot_table(index = \"md\")\n",
    "\n",
    "# use seaborne to plot the data by date\n",
    "sns.scatterplot(data = mydata1)\n",
    "\n",
    "# set legend to avoid covering up observations\n",
    "plt.legend(loc = \"upper center\")\n",
    "\n",
    "## plot the entire sunrise and sunset pressure timeseries.\n",
    "\n",
    "# select second subplot space\n",
    "plt.subplot(2,1,2)\n",
    "\n",
    "# copy needed data\n",
    "mydata2 = pdex[[\"md\",\"p_sunrise\",\"p_sunset\"]].copy()\n",
    "\n",
    "# set data to wide format indexed on datetime column\n",
    "mydata2 = mydata2.pivot_table(index = \"md\")\n",
    "\n",
    "# use seaborne to plot the data by date\n",
    "sns.scatterplot(data = mydata2)\n",
    "\n",
    "# set legend to avoid covering up observations\n",
    "plt.legend(loc=\"lower center\")\n",
    "\n",
    "# display graphs\n",
    "\n",
    "plt.show()"
   ]
  },
  {
   "cell_type": "markdown",
   "metadata": {},
   "source": [
    "### Search for impossible and unlikely values\n",
    "\n",
    "We can also search computationally to flag values. The first type of these are physically impossible, here the following:\n",
    "* temperature <0 K\n",
    "* pressure <0 hPa\n",
    "\n",
    "The implausible values are the following:\n",
    "* Temperature < -80 or > 60\n",
    "* Pressure < 500 or > 1150"
   ]
  },
  {
   "cell_type": "code",
   "execution_count": 6,
   "metadata": {},
   "outputs": [
    {
     "name": "stdout",
     "output_type": "stream",
     "text": [
      "There are impossible values on the following dates: []\n"
     ]
    }
   ],
   "source": [
    "## select values that fall below the above criteria.\n",
    "impossible_values = pdex[(pdex.p_sunset<= 0)|(pdex.p_sunrise<= 0)|(pdex.temp_sunset<=-270)|(pdex.temp_sunrise<=-270)]\n",
    "print(F\"There are impossible values on the following dates: {impossible_values.md.unique()}\")"
   ]
  },
  {
   "cell_type": "code",
   "execution_count": 7,
   "metadata": {},
   "outputs": [
    {
     "name": "stdout",
     "output_type": "stream",
     "text": [
      "There are implausible temperature values on the following dates: ['1813-09-16T00:00:00.000000000']\n",
      "There are implausible pressure values on the following dates: ['1813-03-09T00:00:00.000000000']\n"
     ]
    }
   ],
   "source": [
    "implausible_t = pdex[(pdex.temp_sunset<-80)|(pdex.temp_sunrise<-80)|(pdex.temp_sunset>60)|(pdex.temp_sunrise>60)]\n",
    "implausible_p = pdex[(pdex.p_sunset<500)|(pdex.p_sunrise<500)|(pdex.p_sunset>1150)|(pdex.p_sunrise>1150)]\n",
    "print(F\"There are implausible temperature values on the following dates: {implausible_t.md.unique()}\")\n",
    "print(F\"There are implausible pressure values on the following dates: {implausible_p.md.unique()}\")"
   ]
  },
  {
   "cell_type": "markdown",
   "metadata": {},
   "source": [
    "### Statistical tests\n",
    "Identify values that exceed ±4 standard deviations of the timeseries."
   ]
  },
  {
   "cell_type": "code",
   "execution_count": 8,
   "metadata": {},
   "outputs": [
    {
     "name": "stdout",
     "output_type": "stream",
     "text": [
      "The following time series have a value higher than 4 stds from the mean [['temp_sunset', 115.2]]\n"
     ]
    }
   ],
   "source": [
    "# function takes x = df, y = list of columns in df to analyse, returns list of values that exceed 4 standard deviations in their respective series.\n",
    "def check_std(x,y):\n",
    "    data = []\n",
    "    # set test parameter to 4\n",
    "    c = 4\n",
    "    try:\n",
    "        # loop through columns\n",
    "        for j in y:\n",
    "            # get standard deviation of values in x\n",
    "            a = np.std(x[j])\n",
    "            # get mean of values in x\n",
    "            b = np.mean(x[j])\n",
    "            # loop through the elements of each column\n",
    "            for i in x[j]:\n",
    "                # test occurs here\n",
    "                if (i-b)/a > c:\n",
    "                    # if true append name of column and failed test value to data list\n",
    "                    datai = [j,i]\n",
    "                    data.append(datai)\n",
    "    except:\n",
    "        print(\"its a string\")\n",
    "        data.append(\"not valid\")\n",
    "    return data\n",
    "\n",
    "#list of columns to pass to check_std function\n",
    "columns = [\"p_sunrise\", \"p_sunset\", \"temp_sunrise\",\"temp_sunset\"]\n",
    "\n",
    "more_than_four_stds = check_std(pdex,columns)\n",
    "print(F\"The following time series have a value higher than 4 stds from the mean {more_than_four_stds}\")"
   ]
  },
  {
   "cell_type": "markdown",
   "metadata": {},
   "source": [
    "### Sequential analysis\n",
    "* Often temperature (pressure) observations on consecutive days that differ by more than 25 °C (40 hPa) are flagged,\n",
    "* four or more equal consecutive values in a row."
   ]
  },
  {
   "cell_type": "code",
   "execution_count": 9,
   "metadata": {},
   "outputs": [],
   "source": [
    "## Find the passed number of consecutive values (cutoff) on a passed column (column). \n",
    "def find_consecutive_values(column,cutoff):\n",
    "    # makes a new column that assigns a group indicator to each consecutive value\n",
    "    pdex[\"values\"] = (pdex[column].diff(1) != 0).cumsum()\n",
    "    # makes a new dataframe to contain all the different groups and information about each of the consecutive groups\n",
    "    newpd = pd.DataFrame({\"begin_date\" : pdex.groupby(\"values\").md.first(), \n",
    "              \"end_date\" : pdex.groupby(\"values\").md.last(),\n",
    "              \"consecutive\" : pdex.groupby(\"values\").size(),\n",
    "              \"group\":column})\n",
    "    # returns the groups above a certain cutoff point\n",
    "    return newpd[newpd[\"consecutive\"]>cutoff].copy()\n",
    "\n",
    "## get the dataframes for each case, using 4 consecutive values as the cutoff\n",
    "pressure_sunset = find_consecutive_values(\"p_sunset\",3)\n",
    "pressure_sunrise = find_consecutive_values(\"p_sunrise\",3)\n",
    "temperature_sunrise = find_consecutive_values(\"temp_sunrise\",3)\n",
    "temperature_sunset = find_consecutive_values(\"temp_sunset\",3)"
   ]
  },
  {
   "cell_type": "code",
   "execution_count": 10,
   "metadata": {},
   "outputs": [
    {
     "name": "stdout",
     "output_type": "stream",
     "text": [
      "       begin_date   end_date  consecutive        group\n",
      "values                                                \n",
      "716    1815-02-24 1815-02-27            4  temp_sunset\n",
      "       begin_date   end_date  consecutive        group\n",
      "values                                                \n",
      "716    1815-02-24 1815-02-27            4  temp_sunset\n"
     ]
    }
   ],
   "source": [
    "# print dataframes with consecutive values\n",
    "for i in [temperature_sunset, pressure_sunset, temperature_sunset, pressure_sunrise]:\n",
    "    if len(i) != 0:\n",
    "        print(i)"
   ]
  },
  {
   "cell_type": "markdown",
   "metadata": {},
   "source": [
    "## Exercise 3 - Homogenization\n",
    "\n",
    "### Part 1\n",
    "*For the Craddock test the accumulated normalized differences s are calculated as follows: si=si−1+ai−bi−(am−bm) where a is the reference series, b is the candidate series, am and bm are their long-term means (s0=0). Open the Excel-file or the R file with the txt-data and calculate si. Afterwards, find the breakpoints in the figure on the right in the Excel-sheet*"
   ]
  },
  {
   "cell_type": "code",
   "execution_count": 11,
   "metadata": {},
   "outputs": [
    {
     "data": {
      "image/png": "[encoded data removed]",
      "text/plain": [
       "<Figure size 432x288 with 1 Axes>"
      ]
     },
     "metadata": {
      "needs_background": "light"
     },
     "output_type": "display_data"
    }
   ],
   "source": [
    "mypd = pd.read_table(\"homogenization.txt\")\n",
    "\n",
    "#create datetime column to facilitate analysis and charting\n",
    "mypd[\"day\"] = 1\n",
    "mypd[\"year\"] = mypd[\"Yr\"]\n",
    "mypd[\"month\"] = mypd[\"Mon\"]\n",
    "mypd[\"md\"] = pd.to_datetime(mypd[[\"year\", \"month\", \"day\"]])\n",
    "\n",
    "#obtain long term averages for candidate and reference series\n",
    "candidate_t = np.mean(mypd[\"Candidate_T(degC)\"])\n",
    "reference_t = np.mean(mypd[\"Reference_T(degC)\"])\n",
    "\n",
    "# calculate the difference for each observation\n",
    "mypd[\"difference\"] = mypd[\"Reference_T(degC)\"] - mypd[\"Candidate_T(degC)\"]-reference_t+candidate_t\n",
    "\n",
    "# sum up differences up to i = 1...j for each observation j to find s_j for all observations.\n",
    "mypd[\"s\"] = mypd.difference.cumsum()\n",
    "\n",
    "# select data for charting\n",
    "mydata = mypd[[\"md\",\"Candidate_T(degC)\",\"Reference_T(degC)\",\"s\"]]\n",
    "\n",
    "# reshape dataframe to chart with seaborne defaults\n",
    "mydata = mydata.pivot_table(index = \"md\")\n",
    "\n",
    "# plot the data\n",
    "sns.lineplot(data=mydata)\n",
    "plt.show()"
   ]
  },
  {
   "cell_type": "markdown",
   "metadata": {},
   "source": [
    "As can be seen from visual inspection, the unique sections are:\n",
    "- 2000-2001 (constant), \n",
    "- 2002-2003 (decreasing), \n",
    "- 2004-2007 (constant), \n",
    "- 2008-2011 (increasing).\n",
    "\n",
    "This means the break points are Dec 2001, Dec 2003 and Dec 2007.\n",
    "\n",
    "### Part II\n",
    "*If possible, detected breaks are corrected. Thereby the most recent part of the series is considered to be correct, and the earlier segments are corrected towards the recent segments, working backwards. The correction amount is the the difference between the mean value of the difference series before and after the break, and this correction amount is subtracted form the segment before the break (see Climandes for further information). Open the Excel-file and try to correct the breaks you have found in the previous exercise (here’s the solution for Excel).*"
   ]
  },
  {
   "cell_type": "code",
   "execution_count": null,
   "metadata": {},
   "outputs": [],
   "source": []
  },
  {
   "cell_type": "code",
   "execution_count": 12,
   "metadata": {},
   "outputs": [],
   "source": [
    "# use datetime to slice the dataframe according to the time periods before and after the breaks\n",
    "a = (mypd[\"md\"] < \"2001-12-31\")\n",
    "b = (mypd[\"md\"] < \"2003-12-31\") & (mypd[\"md\"]> \"2001-12-31\")\n",
    "c = (mypd[\"md\"] < \"2007-12-31\") & (mypd[\"md\"] > \"2003-12-31\")\n",
    "d = mypd[\"md\"] > \"2007-12-31\"\n",
    "\n",
    "# calculate difference in mean between candidate and reference for each period\n",
    "mean1 = np.mean(mypd.loc[a][\"Candidate_T(degC)\"])-np.mean(mypd.loc[a][\"Reference_T(degC)\"])\n",
    "mean2 = np.mean(mypd.loc[b][\"Candidate_T(degC)\"])-np.mean(mypd.loc[b][\"Reference_T(degC)\"])\n",
    "mean3 = np.mean(mypd.loc[c][\"Candidate_T(degC)\"])-np.mean(mypd.loc[c][\"Reference_T(degC)\"])\n",
    "mean4 = np.mean(mypd.loc[d][\"Candidate_T(degC)\"])-np.mean(mypd.loc[d][\"Reference_T(degC)\"])\n",
    "corrections = [mean4-mean1, mean4-mean2, mean4-mean3,0]"
   ]
  },
  {
   "cell_type": "code",
   "execution_count": 13,
   "metadata": {},
   "outputs": [],
   "source": [
    "# apply the mean correction to each period\n",
    "mydata1 = mypd.loc[a].copy()\n",
    "mydata1[\"corrected\"] = mydata1[\"Candidate_T(degC)\"] + corrections[0]\n",
    "mydata2 = mypd.loc[b].copy()\n",
    "mydata2[\"corrected\"] = mydata2[\"Candidate_T(degC)\"] + corrections[1]\n",
    "mydata3 = mypd.loc[c].copy()\n",
    "mydata3[\"corrected\"] = mydata3[\"Candidate_T(degC)\"] + corrections[2]\n",
    "mydata4 = mypd.loc[d].copy()\n",
    "mydata4[\"corrected\"] = mydata4[\"Candidate_T(degC)\"]\n",
    "\n",
    "# concatonate the periods together\n",
    "frames = [mydata1,mydata2,mydata3,mydata4]\n",
    "newdata = pd.concat(frames)\n",
    "\n",
    "#add column of new corrected values to original dataset\n",
    "mypd[\"corrected\"] = newdata[\"corrected\"]\n",
    "\n",
    "# calculate the difference for each observation\n",
    "mypd[\"difference_two\"] = mypd[\"Reference_T(degC)\"] - mypd[\"corrected\"]-reference_t+mypd.corrected.mean()\n",
    "\n",
    "# sum up differences up to i = 1...j for each observation j to find s_j for all observations.\n",
    "mypd[\"s_corr\"] = mypd.difference_two.cumsum()"
   ]
  },
  {
   "cell_type": "code",
   "execution_count": 14,
   "metadata": {},
   "outputs": [
    {
     "data": {
      "image/png": "[encoded data removed]",
      "text/plain": [
       "<Figure size 432x288 with 2 Axes>"
      ]
     },
     "metadata": {
      "needs_background": "light"
     },
     "output_type": "display_data"
    }
   ],
   "source": [
    "# graph to inspect for errors\n",
    "\n",
    "plt.subplot(2,1,1)\n",
    "graphdata = mypd[[\"md\",\"Candidate_T(degC)\",\"Reference_T(degC)\",\"corrected\"]]\n",
    "graphdata = graphdata.pivot_table(index = \"md\")\n",
    "sns.lineplot(data=graphdata)\n",
    "\n",
    "plt.subplot(2,1,2)\n",
    "graphdata = mypd[[\"md\",\"s_corr\",\"s\"]]\n",
    "graphdata = graphdata.pivot_table(index = \"md\")\n",
    "sns.lineplot(data=graphdata)\n",
    "\n",
    "plt.show()"
   ]
  },
  {
   "cell_type": "markdown",
   "metadata": {},
   "source": [
    "## Exercise 4 - Data Assimilation\n",
    "\n",
    "### Question 1 Kalman Filter\n",
    "*Assume that you have a substance that decays radioactively and you want to esimate the amount remaining (or radioactivity)...In addition, you have observations of a Geiger counter (in counts/s). The error of the observation is 2 counts/s, the error of the model is not constant but depends on value; the numbers are are already calculated for you...Now do the assimilation over the first 20 s*\n",
    "\n",
    "The modelled radiocative decay in the substance for period $\\Delta_{t}$ is: $N_{t+1} = N_{t}e^{\\lambda\\Delta_{t}}$\n"
   ]
  },
  {
   "cell_type": "code",
   "execution_count": 15,
   "metadata": {},
   "outputs": [
    {
     "data": {
      "text/html": [
       "<div>\n",
       "<style scoped>\n",
       "    .dataframe tbody tr th:only-of-type {\n",
       "        vertical-align: middle;\n",
       "    }\n",
       "\n",
       "    .dataframe tbody tr th {\n",
       "        vertical-align: top;\n",
       "    }\n",
       "\n",
       "    .dataframe thead th {\n",
       "        text-align: right;\n",
       "    }\n",
       "</style>\n",
       "<table border=\"1\" class=\"dataframe\">\n",
       "  <thead>\n",
       "    <tr style=\"text-align: right;\">\n",
       "      <th></th>\n",
       "      <th>t (s)</th>\n",
       "      <th>xb</th>\n",
       "      <th>_b2</th>\n",
       "      <th>y</th>\n",
       "      <th>_y2</th>\n",
       "      <th>x</th>\n",
       "    </tr>\n",
       "  </thead>\n",
       "  <tbody>\n",
       "    <tr>\n",
       "      <td>0</td>\n",
       "      <td>0</td>\n",
       "      <td>1000.000000</td>\n",
       "      <td>1000.000</td>\n",
       "      <td>1000</td>\n",
       "      <td>4</td>\n",
       "      <td>1000.000000</td>\n",
       "    </tr>\n",
       "    <tr>\n",
       "      <td>1</td>\n",
       "      <td>1</td>\n",
       "      <td>606.530660</td>\n",
       "      <td>920.465</td>\n",
       "      <td>598</td>\n",
       "      <td>4</td>\n",
       "      <td>598.018495</td>\n",
       "    </tr>\n",
       "    <tr>\n",
       "      <td>2</td>\n",
       "      <td>2</td>\n",
       "      <td>362.716553</td>\n",
       "      <td>485.640</td>\n",
       "      <td>370</td>\n",
       "      <td>4</td>\n",
       "      <td>369.970128</td>\n",
       "    </tr>\n",
       "    <tr>\n",
       "      <td>3</td>\n",
       "      <td>3</td>\n",
       "      <td>224.398226</td>\n",
       "      <td>154.461</td>\n",
       "      <td>228</td>\n",
       "      <td>4</td>\n",
       "      <td>227.953959</td>\n",
       "    </tr>\n",
       "    <tr>\n",
       "      <td>4</td>\n",
       "      <td>4</td>\n",
       "      <td>138.261065</td>\n",
       "      <td>38.564</td>\n",
       "      <td>139</td>\n",
       "      <td>4</td>\n",
       "      <td>138.963567</td>\n",
       "    </tr>\n",
       "    <tr>\n",
       "      <td>5</td>\n",
       "      <td>5</td>\n",
       "      <td>84.285664</td>\n",
       "      <td>8.299</td>\n",
       "      <td>83</td>\n",
       "      <td>4</td>\n",
       "      <td>83.249668</td>\n",
       "    </tr>\n",
       "    <tr>\n",
       "      <td>6</td>\n",
       "      <td>6</td>\n",
       "      <td>50.493476</td>\n",
       "      <td>1.599</td>\n",
       "      <td>51</td>\n",
       "      <td>4</td>\n",
       "      <td>50.718520</td>\n",
       "    </tr>\n",
       "    <tr>\n",
       "      <td>7</td>\n",
       "      <td>7</td>\n",
       "      <td>30.762337</td>\n",
       "      <td>0.299</td>\n",
       "      <td>34</td>\n",
       "      <td>4</td>\n",
       "      <td>31.183416</td>\n",
       "    </tr>\n",
       "    <tr>\n",
       "      <td>8</td>\n",
       "      <td>8</td>\n",
       "      <td>18.913698</td>\n",
       "      <td>0.054</td>\n",
       "      <td>20</td>\n",
       "      <td>4</td>\n",
       "      <td>18.942257</td>\n",
       "    </tr>\n",
       "    <tr>\n",
       "      <td>9</td>\n",
       "      <td>9</td>\n",
       "      <td>11.489060</td>\n",
       "      <td>0.009</td>\n",
       "      <td>13</td>\n",
       "      <td>4</td>\n",
       "      <td>11.495829</td>\n",
       "    </tr>\n",
       "    <tr>\n",
       "      <td>10</td>\n",
       "      <td>10</td>\n",
       "      <td>6.972572</td>\n",
       "      <td>0.002</td>\n",
       "      <td>10</td>\n",
       "      <td>4</td>\n",
       "      <td>6.975597</td>\n",
       "    </tr>\n",
       "    <tr>\n",
       "      <td>11</td>\n",
       "      <td>11</td>\n",
       "      <td>4.230913</td>\n",
       "      <td>0.000</td>\n",
       "      <td>6</td>\n",
       "      <td>4</td>\n",
       "      <td>4.230913</td>\n",
       "    </tr>\n",
       "    <tr>\n",
       "      <td>12</td>\n",
       "      <td>12</td>\n",
       "      <td>2.566179</td>\n",
       "      <td>0.000</td>\n",
       "      <td>1</td>\n",
       "      <td>4</td>\n",
       "      <td>2.566179</td>\n",
       "    </tr>\n",
       "    <tr>\n",
       "      <td>13</td>\n",
       "      <td>13</td>\n",
       "      <td>1.556466</td>\n",
       "      <td>0.000</td>\n",
       "      <td>4</td>\n",
       "      <td>4</td>\n",
       "      <td>1.556466</td>\n",
       "    </tr>\n",
       "    <tr>\n",
       "      <td>14</td>\n",
       "      <td>14</td>\n",
       "      <td>0.944044</td>\n",
       "      <td>0.000</td>\n",
       "      <td>3</td>\n",
       "      <td>4</td>\n",
       "      <td>0.944044</td>\n",
       "    </tr>\n",
       "    <tr>\n",
       "      <td>15</td>\n",
       "      <td>15</td>\n",
       "      <td>0.572592</td>\n",
       "      <td>0.000</td>\n",
       "      <td>3</td>\n",
       "      <td>4</td>\n",
       "      <td>0.572592</td>\n",
       "    </tr>\n",
       "    <tr>\n",
       "      <td>16</td>\n",
       "      <td>16</td>\n",
       "      <td>0.347295</td>\n",
       "      <td>0.000</td>\n",
       "      <td>1</td>\n",
       "      <td>4</td>\n",
       "      <td>0.347295</td>\n",
       "    </tr>\n",
       "    <tr>\n",
       "      <td>17</td>\n",
       "      <td>17</td>\n",
       "      <td>0.210645</td>\n",
       "      <td>0.000</td>\n",
       "      <td>0</td>\n",
       "      <td>4</td>\n",
       "      <td>0.210645</td>\n",
       "    </tr>\n",
       "    <tr>\n",
       "      <td>18</td>\n",
       "      <td>18</td>\n",
       "      <td>0.127763</td>\n",
       "      <td>0.000</td>\n",
       "      <td>2</td>\n",
       "      <td>4</td>\n",
       "      <td>0.127763</td>\n",
       "    </tr>\n",
       "    <tr>\n",
       "      <td>19</td>\n",
       "      <td>19</td>\n",
       "      <td>0.077492</td>\n",
       "      <td>0.000</td>\n",
       "      <td>3</td>\n",
       "      <td>4</td>\n",
       "      <td>0.077492</td>\n",
       "    </tr>\n",
       "    <tr>\n",
       "      <td>20</td>\n",
       "      <td>20</td>\n",
       "      <td>0.047001</td>\n",
       "      <td>0.000</td>\n",
       "      <td>1</td>\n",
       "      <td>4</td>\n",
       "      <td>0.047001</td>\n",
       "    </tr>\n",
       "  </tbody>\n",
       "</table>\n",
       "</div>"
      ],
      "text/plain": [
       "    t (s)           xb       _b2     y  _y2            x\n",
       "0       0  1000.000000  1000.000  1000    4  1000.000000\n",
       "1       1   606.530660   920.465   598    4   598.018495\n",
       "2       2   362.716553   485.640   370    4   369.970128\n",
       "3       3   224.398226   154.461   228    4   227.953959\n",
       "4       4   138.261065    38.564   139    4   138.963567\n",
       "5       5    84.285664     8.299    83    4    83.249668\n",
       "6       6    50.493476     1.599    51    4    50.718520\n",
       "7       7    30.762337     0.299    34    4    31.183416\n",
       "8       8    18.913698     0.054    20    4    18.942257\n",
       "9       9    11.489060     0.009    13    4    11.495829\n",
       "10     10     6.972572     0.002    10    4     6.975597\n",
       "11     11     4.230913     0.000     6    4     4.230913\n",
       "12     12     2.566179     0.000     1    4     2.566179\n",
       "13     13     1.556466     0.000     4    4     1.556466\n",
       "14     14     0.944044     0.000     3    4     0.944044\n",
       "15     15     0.572592     0.000     3    4     0.572592\n",
       "16     16     0.347295     0.000     1    4     0.347295\n",
       "17     17     0.210645     0.000     0    4     0.210645\n",
       "18     18     0.127763     0.000     2    4     0.127763\n",
       "19     19     0.077492     0.000     3    4     0.077492\n",
       "20     20     0.047001     0.000     1    4     0.047001"
      ]
     },
     "execution_count": 15,
     "metadata": {},
     "output_type": "execute_result"
    }
   ],
   "source": [
    "# read in the data\n",
    "mypd = pd.read_csv(\"Reanalysis_DataAssimilation_Exercise1.csv\",sep = \";\", decimal = \",\")\n",
    "\n",
    "# defines forecast model\n",
    "def first_func(i,x):\n",
    "    # apply model formula to passed x, note delta_t = 1\n",
    "    data = x*math.exp(-0.5)\n",
    "    # assign value to xb at index i\n",
    "    mypd.at[i,\"xb\"] = data\n",
    "    return\n",
    "\n",
    "# defines assimilation formula\n",
    "def second_func(i):\n",
    "    # select the standard deviation for this observation\n",
    "    sb = mypd.at[i,\"_b2\"]\n",
    "    # next steps applies formula\n",
    "    constant = sb/(sb+2)\n",
    "    step1 = mypd.at[i,\"y\"]-mypd.at[i,\"xb\"]\n",
    "    step2= step1*constant\n",
    "    step3 = mypd.at[i,\"xb\"] + step2\n",
    "    #assigns value to x at index i\n",
    "    data = step3\n",
    "    mypd.at[i,\"x\"] = data\n",
    "    return\n",
    "\n",
    "i = 0\n",
    "while i < 21:\n",
    "    if i == 0:\n",
    "        # initial case, sets first value\n",
    "        first_func(1,1000)\n",
    "        second_func(i)\n",
    "    else:\n",
    "        # all other cases, calls first_func on previous index, second_func on current index\n",
    "        first_func(i,mypd.at[i-1,\"x\"])\n",
    "        second_func(i)\n",
    "    \n",
    "    #updates the counter variable\n",
    "    i = i+1\n",
    "mypd"
   ]
  },
  {
   "cell_type": "markdown",
   "metadata": {},
   "source": [
    "### Question 2 Football example\n",
    "\n",
    "*Let’s return to the football example. The model is that of the inclined throw used above. Have a look at the PDF and download the Excel-sheet or use an R-script to open the data in txt-format. But before starting, try to come up with an algebraic formulation.*\n",
    "\n",
    "We will need to calcuate several formulas for this exercise.\n",
    "\n",
    "First is that of the model of the throw. For this we will forecast x and z into the next period:\n",
    "\n",
    "$x_{t} = x_{t-1}+\\mu_{t-1}\\Delta_{t,t-1}$\n",
    "\n",
    "$z_{t} = z_{t-1}+\\mu_{t-1}\\Delta_{t,t-1}-0.5g\\Delta_{t,t-1}^2$\n",
    "\n",
    "Note that the velocity will change as well for each period, thus the model velocity vector $[u_t,v_t]^{T}$ should be adjusted at each period as well:\n",
    "\n",
    "$u_{t} = (x_{t}-x_{t-1})/\\Delta_{t,t-1}$ and \n",
    "\n",
    "$v_t = (z_{t}-z_{t-1})/\\Delta_{t,t-1}- 0.5g\\Delta_{t,t-1}$"
   ]
  },
  {
   "cell_type": "code",
   "execution_count": 16,
   "metadata": {},
   "outputs": [],
   "source": [
    "# import the data\n",
    "mydf = pd.read_csv(\"Reanalysis_DataAssimilation_Exercise2.csv\")\n",
    "\n",
    "# declare needed constants\n",
    "g = 9.80665\n",
    "a = 44.2\n",
    "b = .01\n",
    "r = 9\n",
    "k = 500\n",
    "const = a*b/(a*a*b+r) \n",
    "\n",
    "# define forecast function for x and z\n",
    "\n",
    "def forecast_func(i):\n",
    "    # forecast xb(t) zb(t) from x(t-1) z(t-1)\n",
    "    mydf.at[i,\"xb\"] = mydf.at[i-1,\"x_coord\"]+ mydf.at[i-1,\"u\"]*0.1\n",
    "    mydf.at[i,\"zb\"] = mydf.at[i-1,\"zed\"]+ mydf.at[i-1,\"w\"]*0.1-0.5*g*.01\n",
    "    return\n",
    "\n",
    "# define recalculation of speed function from observed \n",
    "def speed_func(i):\n",
    "    # recalculate velocity from xt, xt-1, z,zt-1\n",
    "    mydf.at[i,\"u\"] = (mydf.at[i,\"x_coord\"]-mydf.at[i-1,\"x_coord\"])/.1\n",
    "    mydf.at[i,\"w\"] = (mydf.at[i,\"zed\"]-mydf.at[i-1,\"zed\"])/.1 - 0.5*g*.1\n",
    "    return"
   ]
  },
  {
   "cell_type": "markdown",
   "metadata": {},
   "source": [
    "Next we need the correction function. Thanks to the assumptions made, we can treat the variance in our model forecast and our observations as independent, thus we can calculate \"observed\" x,z from \"modelled\" x,z in each period with the following formulation:\n",
    "\n",
    "$x = x_b + constant*(i-ax_b)$, where constant = $(a*b)/(a²*b+r)$, and a,b are defined as constant variance of the error of the model and of the camera respectively\n",
    "\n",
    "$z = x_b + constant*(i-az_b)$, where constant defined as above.\n"
   ]
  },
  {
   "cell_type": "code",
   "execution_count": 17,
   "metadata": {},
   "outputs": [],
   "source": [
    "def correct_func(index):\n",
    "    # correct the forecast with the camera, accounting for measurement error\n",
    "    mydf.at[index,\"x_coord\"] = (mydf.at[index,\"i\"]-a*mydf.at[index,\"xb\"])*const+mydf.at[index,\"xb\"]\n",
    "    mydf.at[index,\"zed\"] = mydf.at[index,\"zb\"]- (mydf.at[index,\"j\"]-(k-a*mydf.at[index,\"zb\"]))*const\n",
    "    return"
   ]
  },
  {
   "cell_type": "code",
   "execution_count": 18,
   "metadata": {},
   "outputs": [],
   "source": [
    "# solutions have a camera correction made for the initial observation, but don't we know the initial position?\n",
    "for i in range(len(mydf)):\n",
    "    if i == 0:\n",
    "        correct_func(i)\n",
    "    else:\n",
    "        forecast_func(i)\n",
    "        correct_func(i)\n",
    "        speed_func(i)\n"
   ]
  },
  {
   "cell_type": "code",
   "execution_count": 19,
   "metadata": {},
   "outputs": [
    {
     "data": {
      "image/png": "[encoded data removed]",
      "text/plain": [
       "<Figure size 432x288 with 1 Axes>"
      ]
     },
     "metadata": {
      "needs_background": "light"
     },
     "output_type": "display_data"
    }
   ],
   "source": [
    "# graph data to visually inspect\n",
    "\n",
    "#check differences between observed and calculated for each step\n",
    "mydf[\"diff_z\"]= mydf.zb-mydf.zed\n",
    "mydf[\"diff_x\"]= mydf.xb-mydf.x_coord\n",
    "mydata = mydf[[\"t (s)\",\"xb\",\"x_coord\",\"zed\",\"zb\",\"diff_z\",\"diff_x\"]].copy()\n",
    "mydata = mydata.pivot_table(index = \"t (s)\")\n",
    "sns.scatterplot(data = mydata)\n",
    "plt.show()"
   ]
  },
  {
   "cell_type": "markdown",
   "metadata": {},
   "source": [
    "## Statistical Downscaling\n",
    "\n"
   ]
  },
  {
   "cell_type": "code",
   "execution_count": 20,
   "metadata": {},
   "outputs": [],
   "source": [
    "# import distance package\n",
    "from scipy.spatial.distance import mahalanobis\n",
    "import scipy as sp\n",
    "\n",
    "# load the data\n",
    "past = pd.read_csv(\"stats-downscaling-2.csv\")\n",
    "future = pd.read_csv(\"stats-downscaling-1.csv\")\n",
    "\n",
    "#convert to date-time for ease of processing\n",
    "past[\"day\"] = past[\"DAY\"]\n",
    "past[\"year\"] = past[\"YR\"]\n",
    "past[\"month\"] = past[\"MON\"]\n",
    "past[\"md\"] = pd.to_datetime(past[[\"year\", \"month\", \"day\"]])\n",
    "\n",
    "future[\"year\"] = future[\"yr\"]\n",
    "future[\"month\"] = future[\"mon\"]\n",
    "future[\"md\"] = pd.to_datetime(future[[\"year\", \"month\", \"day\"]])\n",
    "\n",
    "#drop renamed columns\n",
    "past = past.drop(axis=1,columns={\"YR\",\"MON\",\"DAY\"})\n",
    "future = future.drop(axis=1,columns={\"yr\",\"mon\"})\n"
   ]
  },
  {
   "cell_type": "code",
   "execution_count": 21,
   "metadata": {},
   "outputs": [],
   "source": [
    "# get covariance matrix\n",
    "p = past[['PREC [mm]', 'Z500', 'dZ500/dx', 'dZ500/dy']]\n",
    "cov_matrix = p.cov().values\n",
    "cov_matrix = sp.linalg.inv(cov_matrix)\n",
    "mean = p.mean()"
   ]
  },
  {
   "cell_type": "code",
   "execution_count": 22,
   "metadata": {},
   "outputs": [
    {
     "data": {
      "text/html": [
       "<div>\n",
       "<style scoped>\n",
       "    .dataframe tbody tr th:only-of-type {\n",
       "        vertical-align: middle;\n",
       "    }\n",
       "\n",
       "    .dataframe tbody tr th {\n",
       "        vertical-align: top;\n",
       "    }\n",
       "\n",
       "    .dataframe thead th {\n",
       "        text-align: right;\n",
       "    }\n",
       "</style>\n",
       "<table border=\"1\" class=\"dataframe\">\n",
       "  <thead>\n",
       "    <tr style=\"text-align: right;\">\n",
       "      <th></th>\n",
       "      <th>PREC [mm]</th>\n",
       "      <th>Z500</th>\n",
       "      <th>dZ500/dx</th>\n",
       "      <th>dZ500/dy</th>\n",
       "      <th>day</th>\n",
       "      <th>year</th>\n",
       "      <th>month</th>\n",
       "      <th>md</th>\n",
       "      <th>all_values</th>\n",
       "    </tr>\n",
       "  </thead>\n",
       "  <tbody>\n",
       "    <tr>\n",
       "      <td>0</td>\n",
       "      <td>0.0</td>\n",
       "      <td>0.47</td>\n",
       "      <td>0.44</td>\n",
       "      <td>-0.53</td>\n",
       "      <td>1.0</td>\n",
       "      <td>2011.0</td>\n",
       "      <td>4.0</td>\n",
       "      <td>2011-04-01</td>\n",
       "      <td>[0.47, 0.44, -0.53]</td>\n",
       "    </tr>\n",
       "    <tr>\n",
       "      <td>1</td>\n",
       "      <td>0.0</td>\n",
       "      <td>0.42</td>\n",
       "      <td>0.53</td>\n",
       "      <td>0.64</td>\n",
       "      <td>2.0</td>\n",
       "      <td>2011.0</td>\n",
       "      <td>4.0</td>\n",
       "      <td>2011-04-02</td>\n",
       "      <td>[0.42, 0.53, 0.64]</td>\n",
       "    </tr>\n",
       "    <tr>\n",
       "      <td>2</td>\n",
       "      <td>0.0</td>\n",
       "      <td>0.42</td>\n",
       "      <td>0.53</td>\n",
       "      <td>1.47</td>\n",
       "      <td>3.0</td>\n",
       "      <td>2011.0</td>\n",
       "      <td>4.0</td>\n",
       "      <td>2011-04-03</td>\n",
       "      <td>[0.42, 0.53, 1.47]</td>\n",
       "    </tr>\n",
       "    <tr>\n",
       "      <td>3</td>\n",
       "      <td>0.0</td>\n",
       "      <td>-0.31</td>\n",
       "      <td>-0.85</td>\n",
       "      <td>1.56</td>\n",
       "      <td>4.0</td>\n",
       "      <td>2011.0</td>\n",
       "      <td>4.0</td>\n",
       "      <td>2011-04-04</td>\n",
       "      <td>[-0.31, -0.85, 1.56]</td>\n",
       "    </tr>\n",
       "    <tr>\n",
       "      <td>4</td>\n",
       "      <td>0.0</td>\n",
       "      <td>-0.49</td>\n",
       "      <td>-0.33</td>\n",
       "      <td>0.06</td>\n",
       "      <td>5.0</td>\n",
       "      <td>2011.0</td>\n",
       "      <td>4.0</td>\n",
       "      <td>2011-04-05</td>\n",
       "      <td>[-0.49, -0.33, 0.06]</td>\n",
       "    </tr>\n",
       "  </tbody>\n",
       "</table>\n",
       "</div>"
      ],
      "text/plain": [
       "   PREC [mm]  Z500  dZ500/dx  dZ500/dy  day    year  month         md  \\\n",
       "0        0.0  0.47      0.44     -0.53  1.0  2011.0    4.0 2011-04-01   \n",
       "1        0.0  0.42      0.53      0.64  2.0  2011.0    4.0 2011-04-02   \n",
       "2        0.0  0.42      0.53      1.47  3.0  2011.0    4.0 2011-04-03   \n",
       "3        0.0 -0.31     -0.85      1.56  4.0  2011.0    4.0 2011-04-04   \n",
       "4        0.0 -0.49     -0.33      0.06  5.0  2011.0    4.0 2011-04-05   \n",
       "\n",
       "             all_values  \n",
       "0   [0.47, 0.44, -0.53]  \n",
       "1    [0.42, 0.53, 0.64]  \n",
       "2    [0.42, 0.53, 1.47]  \n",
       "3  [-0.31, -0.85, 1.56]  \n",
       "4  [-0.49, -0.33, 0.06]  "
      ]
     },
     "execution_count": 22,
     "metadata": {},
     "output_type": "execute_result"
    }
   ],
   "source": [
    "past['all_values'] = past[['Z500', 'dZ500/dx', 'dZ500/dy']].values.tolist()\n",
    "future['all_values'] = future[['z500', 'dZ500/dx', 'dZ500/dy']].values.tolist()\n",
    "\n",
    "past.head()"
   ]
  },
  {
   "cell_type": "code",
   "execution_count": 31,
   "metadata": {},
   "outputs": [
    {
     "name": "stdout",
     "output_type": "stream",
     "text": [
      "    Price  Distance  Emission  Performance  Mileage  calculateMahalanobis\n",
      "0  100000     16000       300           60       76              6.055764\n",
      "1  800000     60000       400           88       89              2.579063\n",
      "2  650000    300000      1230           90       89              6.762529\n",
      "3  700000     10000       300           87       57              7.482670\n",
      "4  860000    252000       400           83       79              2.027900\n",
      "5  730000    350000       104           81       84              2.380654\n",
      "6  400000    260000       632           72       78              2.147466\n",
      "7  870000    510000       221           91       99              4.915337\n",
      "8  780000      2000       142           90       97              4.025548\n",
      "9  400000      5000       267           93       99              6.623069\n"
     ]
    }
   ],
   "source": [
    "\n",
    "\n",
    "# calculateMahalanobis function to calculate\n",
    "# the Mahalanobis distance\n",
    "def calculateMahalanobis(y=None, data=None, cov=None):\n",
    "\n",
    "\ty_mu = y - np.mean(p)\n",
    "\tif not cov:\n",
    "\t\tcov = np.cov(data.values.T)\n",
    "\tinv_covmat = np.linalg.inv(cov)\n",
    "\tleft = np.dot(y_mu, inv_covmat)\n",
    "\tmahal = np.dot(left, y_mu.T)\n",
    "\treturn mahal.diagonal()\n",
    "\n",
    "# data\n",
    "data = { 'Price': [100000, 800000, 650000, 700000,\n",
    "\t\t\t\t860000, 730000, 400000, 870000,\n",
    "\t\t\t\t780000, 400000],\n",
    "\t\t'Distance': [16000, 60000, 300000, 10000,\n",
    "\t\t\t\t\t252000, 350000, 260000, 510000,\n",
    "\t\t\t\t\t2000, 5000],\n",
    "\t\t'Emission': [300, 400, 1230, 300, 400, 104,\n",
    "\t\t\t\t\t632, 221, 142, 267],\n",
    "\t\t'Performance': [60, 88, 90, 87, 83, 81, 72,\n",
    "\t\t\t\t\t\t91, 90, 93],\n",
    "\t\t'Mileage': [76, 89, 89, 57, 79, 84, 78, 99,\n",
    "\t\t\t\t\t97, 99]\n",
    "\t\t}\n",
    "\n",
    "# Creating dataset\n",
    "df = pd.DataFrame(data,columns=['Price', 'Distance',\n",
    "\t\t\t\t\t\t\t\t'Emission','Performance',\n",
    "\t\t\t\t\t\t\t\t'Mileage'])\n",
    "\n",
    "# Creating a new column in the dataframe that holds\n",
    "# the Mahalanobis distance for each row\n",
    "df['calculateMahalanobis'] = calculateMahalanobis(y=df, data=df[[\n",
    "'Price', 'Distance', 'Emission','Performance', 'Mileage']])\n",
    "\n",
    "# Display the dataframe\n",
    "print(df)\n"
   ]
  },
  {
   "cell_type": "code",
   "execution_count": 28,
   "metadata": {},
   "outputs": [
    {
     "ename": "TypeError",
     "evalue": "unsupported operand type(s) for -: 'list' and 'float'",
     "output_type": "error",
     "traceback": [
      "\u001b[0;31m---------------------------------------------------------------------------\u001b[0m",
      "\u001b[0;31mTypeError\u001b[0m                                 Traceback (most recent call last)",
      "\u001b[0;32m~/anaconda3/lib/python3.7/site-packages/pandas/core/ops/__init__.py\u001b[0m in \u001b[0;36mna_op\u001b[0;34m(x, y)\u001b[0m\n\u001b[1;32m    967\u001b[0m         \u001b[0;32mtry\u001b[0m\u001b[0;34m:\u001b[0m\u001b[0;34m\u001b[0m\u001b[0;34m\u001b[0m\u001b[0m\n\u001b[0;32m--> 968\u001b[0;31m             \u001b[0mresult\u001b[0m \u001b[0;34m=\u001b[0m \u001b[0mexpressions\u001b[0m\u001b[0;34m.\u001b[0m\u001b[0mevaluate\u001b[0m\u001b[0;34m(\u001b[0m\u001b[0mop\u001b[0m\u001b[0;34m,\u001b[0m \u001b[0mstr_rep\u001b[0m\u001b[0;34m,\u001b[0m \u001b[0mx\u001b[0m\u001b[0;34m,\u001b[0m \u001b[0my\u001b[0m\u001b[0;34m,\u001b[0m \u001b[0;34m**\u001b[0m\u001b[0meval_kwargs\u001b[0m\u001b[0;34m)\u001b[0m\u001b[0;34m\u001b[0m\u001b[0;34m\u001b[0m\u001b[0m\n\u001b[0m\u001b[1;32m    969\u001b[0m         \u001b[0;32mexcept\u001b[0m \u001b[0mTypeError\u001b[0m\u001b[0;34m:\u001b[0m\u001b[0;34m\u001b[0m\u001b[0;34m\u001b[0m\u001b[0m\n",
      "\u001b[0;32m~/anaconda3/lib/python3.7/site-packages/pandas/core/computation/expressions.py\u001b[0m in \u001b[0;36mevaluate\u001b[0;34m(op, op_str, a, b, use_numexpr, **eval_kwargs)\u001b[0m\n\u001b[1;32m    220\u001b[0m     \u001b[0;32mif\u001b[0m \u001b[0muse_numexpr\u001b[0m\u001b[0;34m:\u001b[0m\u001b[0;34m\u001b[0m\u001b[0;34m\u001b[0m\u001b[0m\n\u001b[0;32m--> 221\u001b[0;31m         \u001b[0;32mreturn\u001b[0m \u001b[0m_evaluate\u001b[0m\u001b[0;34m(\u001b[0m\u001b[0mop\u001b[0m\u001b[0;34m,\u001b[0m \u001b[0mop_str\u001b[0m\u001b[0;34m,\u001b[0m \u001b[0ma\u001b[0m\u001b[0;34m,\u001b[0m \u001b[0mb\u001b[0m\u001b[0;34m,\u001b[0m \u001b[0;34m**\u001b[0m\u001b[0meval_kwargs\u001b[0m\u001b[0;34m)\u001b[0m\u001b[0;34m\u001b[0m\u001b[0;34m\u001b[0m\u001b[0m\n\u001b[0m\u001b[1;32m    222\u001b[0m     \u001b[0;32mreturn\u001b[0m \u001b[0m_evaluate_standard\u001b[0m\u001b[0;34m(\u001b[0m\u001b[0mop\u001b[0m\u001b[0;34m,\u001b[0m \u001b[0mop_str\u001b[0m\u001b[0;34m,\u001b[0m \u001b[0ma\u001b[0m\u001b[0;34m,\u001b[0m \u001b[0mb\u001b[0m\u001b[0;34m)\u001b[0m\u001b[0;34m\u001b[0m\u001b[0;34m\u001b[0m\u001b[0m\n",
      "\u001b[0;32m~/anaconda3/lib/python3.7/site-packages/pandas/core/computation/expressions.py\u001b[0m in \u001b[0;36m_evaluate_numexpr\u001b[0;34m(op, op_str, a, b, truediv, reversed, **eval_kwargs)\u001b[0m\n\u001b[1;32m    126\u001b[0m     \u001b[0;32mif\u001b[0m \u001b[0mresult\u001b[0m \u001b[0;32mis\u001b[0m \u001b[0;32mNone\u001b[0m\u001b[0;34m:\u001b[0m\u001b[0;34m\u001b[0m\u001b[0;34m\u001b[0m\u001b[0m\n\u001b[0;32m--> 127\u001b[0;31m         \u001b[0mresult\u001b[0m \u001b[0;34m=\u001b[0m \u001b[0m_evaluate_standard\u001b[0m\u001b[0;34m(\u001b[0m\u001b[0mop\u001b[0m\u001b[0;34m,\u001b[0m \u001b[0mop_str\u001b[0m\u001b[0;34m,\u001b[0m \u001b[0ma\u001b[0m\u001b[0;34m,\u001b[0m \u001b[0mb\u001b[0m\u001b[0;34m)\u001b[0m\u001b[0;34m\u001b[0m\u001b[0;34m\u001b[0m\u001b[0m\n\u001b[0m\u001b[1;32m    128\u001b[0m \u001b[0;34m\u001b[0m\u001b[0m\n",
      "\u001b[0;32m~/anaconda3/lib/python3.7/site-packages/pandas/core/computation/expressions.py\u001b[0m in \u001b[0;36m_evaluate_standard\u001b[0;34m(op, op_str, a, b, **eval_kwargs)\u001b[0m\n\u001b[1;32m     69\u001b[0m     \u001b[0;32mwith\u001b[0m \u001b[0mnp\u001b[0m\u001b[0;34m.\u001b[0m\u001b[0merrstate\u001b[0m\u001b[0;34m(\u001b[0m\u001b[0mall\u001b[0m\u001b[0;34m=\u001b[0m\u001b[0;34m\"ignore\"\u001b[0m\u001b[0;34m)\u001b[0m\u001b[0;34m:\u001b[0m\u001b[0;34m\u001b[0m\u001b[0;34m\u001b[0m\u001b[0m\n\u001b[0;32m---> 70\u001b[0;31m         \u001b[0;32mreturn\u001b[0m \u001b[0mop\u001b[0m\u001b[0;34m(\u001b[0m\u001b[0ma\u001b[0m\u001b[0;34m,\u001b[0m \u001b[0mb\u001b[0m\u001b[0;34m)\u001b[0m\u001b[0;34m\u001b[0m\u001b[0;34m\u001b[0m\u001b[0m\n\u001b[0m\u001b[1;32m     71\u001b[0m \u001b[0;34m\u001b[0m\u001b[0m\n",
      "\u001b[0;31mTypeError\u001b[0m: unsupported operand type(s) for -: 'list' and 'float'",
      "\nDuring handling of the above exception, another exception occurred:\n",
      "\u001b[0;31mTypeError\u001b[0m                                 Traceback (most recent call last)",
      "\u001b[0;32m<ipython-input-28-8b8a33decdd4>\u001b[0m in \u001b[0;36m<module>\u001b[0;34m\u001b[0m\n\u001b[1;32m     11\u001b[0m \u001b[0;31m# create new column in dataframe that contains\u001b[0m\u001b[0;34m\u001b[0m\u001b[0;34m\u001b[0m\u001b[0;34m\u001b[0m\u001b[0m\n\u001b[1;32m     12\u001b[0m \u001b[0;31m# Mahalanobis distance for each row\u001b[0m\u001b[0;34m\u001b[0m\u001b[0;34m\u001b[0m\u001b[0;34m\u001b[0m\u001b[0m\n\u001b[0;32m---> 13\u001b[0;31m \u001b[0mfuture\u001b[0m\u001b[0;34m[\u001b[0m\u001b[0;34m'calculateMahalanobis'\u001b[0m\u001b[0;34m]\u001b[0m \u001b[0;34m=\u001b[0m \u001b[0mcalculateMahalanobis\u001b[0m\u001b[0;34m(\u001b[0m\u001b[0my\u001b[0m\u001b[0;34m=\u001b[0m\u001b[0mfuture\u001b[0m\u001b[0;34m,\u001b[0m \u001b[0mdata\u001b[0m\u001b[0;34m=\u001b[0m\u001b[0mp\u001b[0m\u001b[0;34m,\u001b[0m \u001b[0mcov\u001b[0m\u001b[0;34m=\u001b[0m\u001b[0mcov_matrix\u001b[0m\u001b[0;34m)\u001b[0m\u001b[0;34m\u001b[0m\u001b[0;34m\u001b[0m\u001b[0m\n\u001b[0m",
      "\u001b[0;32m<ipython-input-28-8b8a33decdd4>\u001b[0m in \u001b[0;36mcalculateMahalanobis\u001b[0;34m(y, data, cov)\u001b[0m\n\u001b[1;32m      1\u001b[0m \u001b[0;32mdef\u001b[0m \u001b[0mcalculateMahalanobis\u001b[0m\u001b[0;34m(\u001b[0m\u001b[0my\u001b[0m\u001b[0;34m=\u001b[0m\u001b[0;32mNone\u001b[0m\u001b[0;34m,\u001b[0m \u001b[0mdata\u001b[0m\u001b[0;34m=\u001b[0m\u001b[0;32mNone\u001b[0m\u001b[0;34m,\u001b[0m \u001b[0mcov\u001b[0m\u001b[0;34m=\u001b[0m\u001b[0;32mNone\u001b[0m\u001b[0;34m)\u001b[0m\u001b[0;34m:\u001b[0m\u001b[0;34m\u001b[0m\u001b[0;34m\u001b[0m\u001b[0m\n\u001b[1;32m      2\u001b[0m \u001b[0;34m\u001b[0m\u001b[0m\n\u001b[0;32m----> 3\u001b[0;31m     \u001b[0my_mu\u001b[0m \u001b[0;34m=\u001b[0m \u001b[0my\u001b[0m \u001b[0;34m-\u001b[0m \u001b[0mnp\u001b[0m\u001b[0;34m.\u001b[0m\u001b[0mmean\u001b[0m\u001b[0;34m(\u001b[0m\u001b[0mdata\u001b[0m\u001b[0;34m)\u001b[0m\u001b[0;34m\u001b[0m\u001b[0;34m\u001b[0m\u001b[0m\n\u001b[0m\u001b[1;32m      4\u001b[0m     \u001b[0;32mif\u001b[0m \u001b[0;32mnot\u001b[0m \u001b[0mcov\u001b[0m\u001b[0;34m:\u001b[0m\u001b[0;34m\u001b[0m\u001b[0;34m\u001b[0m\u001b[0m\n\u001b[1;32m      5\u001b[0m         \u001b[0mcov\u001b[0m \u001b[0;34m=\u001b[0m \u001b[0mnp\u001b[0m\u001b[0;34m.\u001b[0m\u001b[0mcov\u001b[0m\u001b[0;34m(\u001b[0m\u001b[0mdata\u001b[0m\u001b[0;34m.\u001b[0m\u001b[0mvalues\u001b[0m\u001b[0;34m.\u001b[0m\u001b[0mT\u001b[0m\u001b[0;34m)\u001b[0m\u001b[0;34m\u001b[0m\u001b[0;34m\u001b[0m\u001b[0m\n",
      "\u001b[0;32m~/anaconda3/lib/python3.7/site-packages/pandas/core/ops/__init__.py\u001b[0m in \u001b[0;36mf\u001b[0;34m(self, other, axis, level, fill_value)\u001b[0m\n\u001b[1;32m   1497\u001b[0m             \u001b[0mpass_op\u001b[0m \u001b[0;34m=\u001b[0m \u001b[0mop\u001b[0m \u001b[0;32mif\u001b[0m \u001b[0maxis\u001b[0m \u001b[0;32min\u001b[0m \u001b[0;34m[\u001b[0m\u001b[0;36m0\u001b[0m\u001b[0;34m,\u001b[0m \u001b[0;34m\"columns\"\u001b[0m\u001b[0;34m,\u001b[0m \u001b[0;32mNone\u001b[0m\u001b[0;34m]\u001b[0m \u001b[0;32melse\u001b[0m \u001b[0mna_op\u001b[0m\u001b[0;34m\u001b[0m\u001b[0;34m\u001b[0m\u001b[0m\n\u001b[1;32m   1498\u001b[0m             return _combine_series_frame(\n\u001b[0;32m-> 1499\u001b[0;31m                 \u001b[0mself\u001b[0m\u001b[0;34m,\u001b[0m \u001b[0mother\u001b[0m\u001b[0;34m,\u001b[0m \u001b[0mpass_op\u001b[0m\u001b[0;34m,\u001b[0m \u001b[0mfill_value\u001b[0m\u001b[0;34m=\u001b[0m\u001b[0mfill_value\u001b[0m\u001b[0;34m,\u001b[0m \u001b[0maxis\u001b[0m\u001b[0;34m=\u001b[0m\u001b[0maxis\u001b[0m\u001b[0;34m,\u001b[0m \u001b[0mlevel\u001b[0m\u001b[0;34m=\u001b[0m\u001b[0mlevel\u001b[0m\u001b[0;34m\u001b[0m\u001b[0;34m\u001b[0m\u001b[0m\n\u001b[0m\u001b[1;32m   1500\u001b[0m             )\n\u001b[1;32m   1501\u001b[0m         \u001b[0;32melse\u001b[0m\u001b[0;34m:\u001b[0m\u001b[0;34m\u001b[0m\u001b[0;34m\u001b[0m\u001b[0m\n",
      "\u001b[0;32m~/anaconda3/lib/python3.7/site-packages/pandas/core/ops/__init__.py\u001b[0m in \u001b[0;36m_combine_series_frame\u001b[0;34m(self, other, func, fill_value, axis, level)\u001b[0m\n\u001b[1;32m   1398\u001b[0m \u001b[0;34m\u001b[0m\u001b[0m\n\u001b[1;32m   1399\u001b[0m         \u001b[0;31m# default axis is columns\u001b[0m\u001b[0;34m\u001b[0m\u001b[0;34m\u001b[0m\u001b[0;34m\u001b[0m\u001b[0m\n\u001b[0;32m-> 1400\u001b[0;31m         \u001b[0;32mreturn\u001b[0m \u001b[0mself\u001b[0m\u001b[0;34m.\u001b[0m\u001b[0m_combine_match_columns\u001b[0m\u001b[0;34m(\u001b[0m\u001b[0mother\u001b[0m\u001b[0;34m,\u001b[0m \u001b[0mfunc\u001b[0m\u001b[0;34m,\u001b[0m \u001b[0mlevel\u001b[0m\u001b[0;34m=\u001b[0m\u001b[0mlevel\u001b[0m\u001b[0;34m)\u001b[0m\u001b[0;34m\u001b[0m\u001b[0;34m\u001b[0m\u001b[0m\n\u001b[0m\u001b[1;32m   1401\u001b[0m \u001b[0;34m\u001b[0m\u001b[0m\n\u001b[1;32m   1402\u001b[0m \u001b[0;34m\u001b[0m\u001b[0m\n",
      "\u001b[0;32m~/anaconda3/lib/python3.7/site-packages/pandas/core/frame.py\u001b[0m in \u001b[0;36m_combine_match_columns\u001b[0;34m(self, other, func, level)\u001b[0m\n\u001b[1;32m   5397\u001b[0m         \u001b[0mleft\u001b[0m\u001b[0;34m,\u001b[0m \u001b[0mright\u001b[0m \u001b[0;34m=\u001b[0m \u001b[0mself\u001b[0m\u001b[0;34m.\u001b[0m\u001b[0malign\u001b[0m\u001b[0;34m(\u001b[0m\u001b[0mother\u001b[0m\u001b[0;34m,\u001b[0m \u001b[0mjoin\u001b[0m\u001b[0;34m=\u001b[0m\u001b[0;34m\"outer\"\u001b[0m\u001b[0;34m,\u001b[0m \u001b[0maxis\u001b[0m\u001b[0;34m=\u001b[0m\u001b[0;36m1\u001b[0m\u001b[0;34m,\u001b[0m \u001b[0mlevel\u001b[0m\u001b[0;34m=\u001b[0m\u001b[0mlevel\u001b[0m\u001b[0;34m,\u001b[0m \u001b[0mcopy\u001b[0m\u001b[0;34m=\u001b[0m\u001b[0;32mFalse\u001b[0m\u001b[0;34m)\u001b[0m\u001b[0;34m\u001b[0m\u001b[0;34m\u001b[0m\u001b[0m\n\u001b[1;32m   5398\u001b[0m         \u001b[0;32massert\u001b[0m \u001b[0mleft\u001b[0m\u001b[0;34m.\u001b[0m\u001b[0mcolumns\u001b[0m\u001b[0;34m.\u001b[0m\u001b[0mequals\u001b[0m\u001b[0;34m(\u001b[0m\u001b[0mright\u001b[0m\u001b[0;34m.\u001b[0m\u001b[0mindex\u001b[0m\u001b[0;34m)\u001b[0m\u001b[0;34m\u001b[0m\u001b[0;34m\u001b[0m\u001b[0m\n\u001b[0;32m-> 5399\u001b[0;31m         \u001b[0;32mreturn\u001b[0m \u001b[0mops\u001b[0m\u001b[0;34m.\u001b[0m\u001b[0mdispatch_to_series\u001b[0m\u001b[0;34m(\u001b[0m\u001b[0mleft\u001b[0m\u001b[0;34m,\u001b[0m \u001b[0mright\u001b[0m\u001b[0;34m,\u001b[0m \u001b[0mfunc\u001b[0m\u001b[0;34m,\u001b[0m \u001b[0maxis\u001b[0m\u001b[0;34m=\u001b[0m\u001b[0;34m\"columns\"\u001b[0m\u001b[0;34m)\u001b[0m\u001b[0;34m\u001b[0m\u001b[0;34m\u001b[0m\u001b[0m\n\u001b[0m\u001b[1;32m   5400\u001b[0m \u001b[0;34m\u001b[0m\u001b[0m\n\u001b[1;32m   5401\u001b[0m     \u001b[0;32mdef\u001b[0m \u001b[0m_combine_const\u001b[0m\u001b[0;34m(\u001b[0m\u001b[0mself\u001b[0m\u001b[0;34m,\u001b[0m \u001b[0mother\u001b[0m\u001b[0;34m,\u001b[0m \u001b[0mfunc\u001b[0m\u001b[0;34m)\u001b[0m\u001b[0;34m:\u001b[0m\u001b[0;34m\u001b[0m\u001b[0;34m\u001b[0m\u001b[0m\n",
      "\u001b[0;32m~/anaconda3/lib/python3.7/site-packages/pandas/core/ops/__init__.py\u001b[0m in \u001b[0;36mdispatch_to_series\u001b[0;34m(left, right, func, str_rep, axis)\u001b[0m\n\u001b[1;32m    594\u001b[0m         \u001b[0;32mraise\u001b[0m \u001b[0mNotImplementedError\u001b[0m\u001b[0;34m(\u001b[0m\u001b[0mright\u001b[0m\u001b[0;34m)\u001b[0m\u001b[0;34m\u001b[0m\u001b[0;34m\u001b[0m\u001b[0m\n\u001b[1;32m    595\u001b[0m \u001b[0;34m\u001b[0m\u001b[0m\n\u001b[0;32m--> 596\u001b[0;31m     \u001b[0mnew_data\u001b[0m \u001b[0;34m=\u001b[0m \u001b[0mexpressions\u001b[0m\u001b[0;34m.\u001b[0m\u001b[0mevaluate\u001b[0m\u001b[0;34m(\u001b[0m\u001b[0mcolumn_op\u001b[0m\u001b[0;34m,\u001b[0m \u001b[0mstr_rep\u001b[0m\u001b[0;34m,\u001b[0m \u001b[0mleft\u001b[0m\u001b[0;34m,\u001b[0m \u001b[0mright\u001b[0m\u001b[0;34m)\u001b[0m\u001b[0;34m\u001b[0m\u001b[0;34m\u001b[0m\u001b[0m\n\u001b[0m\u001b[1;32m    597\u001b[0m \u001b[0;34m\u001b[0m\u001b[0m\n\u001b[1;32m    598\u001b[0m     \u001b[0mresult\u001b[0m \u001b[0;34m=\u001b[0m \u001b[0mleft\u001b[0m\u001b[0;34m.\u001b[0m\u001b[0m_constructor\u001b[0m\u001b[0;34m(\u001b[0m\u001b[0mnew_data\u001b[0m\u001b[0;34m,\u001b[0m \u001b[0mindex\u001b[0m\u001b[0;34m=\u001b[0m\u001b[0mleft\u001b[0m\u001b[0;34m.\u001b[0m\u001b[0mindex\u001b[0m\u001b[0;34m,\u001b[0m \u001b[0mcopy\u001b[0m\u001b[0;34m=\u001b[0m\u001b[0;32mFalse\u001b[0m\u001b[0;34m)\u001b[0m\u001b[0;34m\u001b[0m\u001b[0;34m\u001b[0m\u001b[0m\n",
      "\u001b[0;32m~/anaconda3/lib/python3.7/site-packages/pandas/core/computation/expressions.py\u001b[0m in \u001b[0;36mevaluate\u001b[0;34m(op, op_str, a, b, use_numexpr, **eval_kwargs)\u001b[0m\n\u001b[1;32m    219\u001b[0m     \u001b[0muse_numexpr\u001b[0m \u001b[0;34m=\u001b[0m \u001b[0muse_numexpr\u001b[0m \u001b[0;32mand\u001b[0m \u001b[0m_bool_arith_check\u001b[0m\u001b[0;34m(\u001b[0m\u001b[0mop_str\u001b[0m\u001b[0;34m,\u001b[0m \u001b[0ma\u001b[0m\u001b[0;34m,\u001b[0m \u001b[0mb\u001b[0m\u001b[0;34m)\u001b[0m\u001b[0;34m\u001b[0m\u001b[0;34m\u001b[0m\u001b[0m\n\u001b[1;32m    220\u001b[0m     \u001b[0;32mif\u001b[0m \u001b[0muse_numexpr\u001b[0m\u001b[0;34m:\u001b[0m\u001b[0;34m\u001b[0m\u001b[0;34m\u001b[0m\u001b[0m\n\u001b[0;32m--> 221\u001b[0;31m         \u001b[0;32mreturn\u001b[0m \u001b[0m_evaluate\u001b[0m\u001b[0;34m(\u001b[0m\u001b[0mop\u001b[0m\u001b[0;34m,\u001b[0m \u001b[0mop_str\u001b[0m\u001b[0;34m,\u001b[0m \u001b[0ma\u001b[0m\u001b[0;34m,\u001b[0m \u001b[0mb\u001b[0m\u001b[0;34m,\u001b[0m \u001b[0;34m**\u001b[0m\u001b[0meval_kwargs\u001b[0m\u001b[0;34m)\u001b[0m\u001b[0;34m\u001b[0m\u001b[0;34m\u001b[0m\u001b[0m\n\u001b[0m\u001b[1;32m    222\u001b[0m     \u001b[0;32mreturn\u001b[0m \u001b[0m_evaluate_standard\u001b[0m\u001b[0;34m(\u001b[0m\u001b[0mop\u001b[0m\u001b[0;34m,\u001b[0m \u001b[0mop_str\u001b[0m\u001b[0;34m,\u001b[0m \u001b[0ma\u001b[0m\u001b[0;34m,\u001b[0m \u001b[0mb\u001b[0m\u001b[0;34m)\u001b[0m\u001b[0;34m\u001b[0m\u001b[0;34m\u001b[0m\u001b[0m\n\u001b[1;32m    223\u001b[0m \u001b[0;34m\u001b[0m\u001b[0m\n",
      "\u001b[0;32m~/anaconda3/lib/python3.7/site-packages/pandas/core/computation/expressions.py\u001b[0m in \u001b[0;36m_evaluate_numexpr\u001b[0;34m(op, op_str, a, b, truediv, reversed, **eval_kwargs)\u001b[0m\n\u001b[1;32m    125\u001b[0m \u001b[0;34m\u001b[0m\u001b[0m\n\u001b[1;32m    126\u001b[0m     \u001b[0;32mif\u001b[0m \u001b[0mresult\u001b[0m \u001b[0;32mis\u001b[0m \u001b[0;32mNone\u001b[0m\u001b[0;34m:\u001b[0m\u001b[0;34m\u001b[0m\u001b[0;34m\u001b[0m\u001b[0m\n\u001b[0;32m--> 127\u001b[0;31m         \u001b[0mresult\u001b[0m \u001b[0;34m=\u001b[0m \u001b[0m_evaluate_standard\u001b[0m\u001b[0;34m(\u001b[0m\u001b[0mop\u001b[0m\u001b[0;34m,\u001b[0m \u001b[0mop_str\u001b[0m\u001b[0;34m,\u001b[0m \u001b[0ma\u001b[0m\u001b[0;34m,\u001b[0m \u001b[0mb\u001b[0m\u001b[0;34m)\u001b[0m\u001b[0;34m\u001b[0m\u001b[0;34m\u001b[0m\u001b[0m\n\u001b[0m\u001b[1;32m    128\u001b[0m \u001b[0;34m\u001b[0m\u001b[0m\n\u001b[1;32m    129\u001b[0m     \u001b[0;32mreturn\u001b[0m \u001b[0mresult\u001b[0m\u001b[0;34m\u001b[0m\u001b[0;34m\u001b[0m\u001b[0m\n",
      "\u001b[0;32m~/anaconda3/lib/python3.7/site-packages/pandas/core/computation/expressions.py\u001b[0m in \u001b[0;36m_evaluate_standard\u001b[0;34m(op, op_str, a, b, **eval_kwargs)\u001b[0m\n\u001b[1;32m     68\u001b[0m         \u001b[0m_store_test_result\u001b[0m\u001b[0;34m(\u001b[0m\u001b[0;32mFalse\u001b[0m\u001b[0;34m)\u001b[0m\u001b[0;34m\u001b[0m\u001b[0;34m\u001b[0m\u001b[0m\n\u001b[1;32m     69\u001b[0m     \u001b[0;32mwith\u001b[0m \u001b[0mnp\u001b[0m\u001b[0;34m.\u001b[0m\u001b[0merrstate\u001b[0m\u001b[0;34m(\u001b[0m\u001b[0mall\u001b[0m\u001b[0;34m=\u001b[0m\u001b[0;34m\"ignore\"\u001b[0m\u001b[0;34m)\u001b[0m\u001b[0;34m:\u001b[0m\u001b[0;34m\u001b[0m\u001b[0;34m\u001b[0m\u001b[0m\n\u001b[0;32m---> 70\u001b[0;31m         \u001b[0;32mreturn\u001b[0m \u001b[0mop\u001b[0m\u001b[0;34m(\u001b[0m\u001b[0ma\u001b[0m\u001b[0;34m,\u001b[0m \u001b[0mb\u001b[0m\u001b[0;34m)\u001b[0m\u001b[0;34m\u001b[0m\u001b[0;34m\u001b[0m\u001b[0m\n\u001b[0m\u001b[1;32m     71\u001b[0m \u001b[0;34m\u001b[0m\u001b[0m\n\u001b[1;32m     72\u001b[0m \u001b[0;34m\u001b[0m\u001b[0m\n",
      "\u001b[0;32m~/anaconda3/lib/python3.7/site-packages/pandas/core/ops/__init__.py\u001b[0m in \u001b[0;36mcolumn_op\u001b[0;34m(a, b)\u001b[0m\n\u001b[1;32m    582\u001b[0m \u001b[0;34m\u001b[0m\u001b[0m\n\u001b[1;32m    583\u001b[0m         \u001b[0;32mdef\u001b[0m \u001b[0mcolumn_op\u001b[0m\u001b[0;34m(\u001b[0m\u001b[0ma\u001b[0m\u001b[0;34m,\u001b[0m \u001b[0mb\u001b[0m\u001b[0;34m)\u001b[0m\u001b[0;34m:\u001b[0m\u001b[0;34m\u001b[0m\u001b[0;34m\u001b[0m\u001b[0m\n\u001b[0;32m--> 584\u001b[0;31m             \u001b[0;32mreturn\u001b[0m \u001b[0;34m{\u001b[0m\u001b[0mi\u001b[0m\u001b[0;34m:\u001b[0m \u001b[0mfunc\u001b[0m\u001b[0;34m(\u001b[0m\u001b[0ma\u001b[0m\u001b[0;34m.\u001b[0m\u001b[0miloc\u001b[0m\u001b[0;34m[\u001b[0m\u001b[0;34m:\u001b[0m\u001b[0;34m,\u001b[0m \u001b[0mi\u001b[0m\u001b[0;34m]\u001b[0m\u001b[0;34m,\u001b[0m \u001b[0mb\u001b[0m\u001b[0;34m.\u001b[0m\u001b[0miloc\u001b[0m\u001b[0;34m[\u001b[0m\u001b[0mi\u001b[0m\u001b[0;34m]\u001b[0m\u001b[0;34m)\u001b[0m \u001b[0;32mfor\u001b[0m \u001b[0mi\u001b[0m \u001b[0;32min\u001b[0m \u001b[0mrange\u001b[0m\u001b[0;34m(\u001b[0m\u001b[0mlen\u001b[0m\u001b[0;34m(\u001b[0m\u001b[0ma\u001b[0m\u001b[0;34m.\u001b[0m\u001b[0mcolumns\u001b[0m\u001b[0;34m)\u001b[0m\u001b[0;34m)\u001b[0m\u001b[0;34m}\u001b[0m\u001b[0;34m\u001b[0m\u001b[0;34m\u001b[0m\u001b[0m\n\u001b[0m\u001b[1;32m    585\u001b[0m \u001b[0;34m\u001b[0m\u001b[0m\n\u001b[1;32m    586\u001b[0m     \u001b[0;32melif\u001b[0m \u001b[0misinstance\u001b[0m\u001b[0;34m(\u001b[0m\u001b[0mright\u001b[0m\u001b[0;34m,\u001b[0m \u001b[0mABCSeries\u001b[0m\u001b[0;34m)\u001b[0m\u001b[0;34m:\u001b[0m\u001b[0;34m\u001b[0m\u001b[0;34m\u001b[0m\u001b[0m\n",
      "\u001b[0;32m~/anaconda3/lib/python3.7/site-packages/pandas/core/ops/__init__.py\u001b[0m in \u001b[0;36m<dictcomp>\u001b[0;34m(.0)\u001b[0m\n\u001b[1;32m    582\u001b[0m \u001b[0;34m\u001b[0m\u001b[0m\n\u001b[1;32m    583\u001b[0m         \u001b[0;32mdef\u001b[0m \u001b[0mcolumn_op\u001b[0m\u001b[0;34m(\u001b[0m\u001b[0ma\u001b[0m\u001b[0;34m,\u001b[0m \u001b[0mb\u001b[0m\u001b[0;34m)\u001b[0m\u001b[0;34m:\u001b[0m\u001b[0;34m\u001b[0m\u001b[0;34m\u001b[0m\u001b[0m\n\u001b[0;32m--> 584\u001b[0;31m             \u001b[0;32mreturn\u001b[0m \u001b[0;34m{\u001b[0m\u001b[0mi\u001b[0m\u001b[0;34m:\u001b[0m \u001b[0mfunc\u001b[0m\u001b[0;34m(\u001b[0m\u001b[0ma\u001b[0m\u001b[0;34m.\u001b[0m\u001b[0miloc\u001b[0m\u001b[0;34m[\u001b[0m\u001b[0;34m:\u001b[0m\u001b[0;34m,\u001b[0m \u001b[0mi\u001b[0m\u001b[0;34m]\u001b[0m\u001b[0;34m,\u001b[0m \u001b[0mb\u001b[0m\u001b[0;34m.\u001b[0m\u001b[0miloc\u001b[0m\u001b[0;34m[\u001b[0m\u001b[0mi\u001b[0m\u001b[0;34m]\u001b[0m\u001b[0;34m)\u001b[0m \u001b[0;32mfor\u001b[0m \u001b[0mi\u001b[0m \u001b[0;32min\u001b[0m \u001b[0mrange\u001b[0m\u001b[0;34m(\u001b[0m\u001b[0mlen\u001b[0m\u001b[0;34m(\u001b[0m\u001b[0ma\u001b[0m\u001b[0;34m.\u001b[0m\u001b[0mcolumns\u001b[0m\u001b[0;34m)\u001b[0m\u001b[0;34m)\u001b[0m\u001b[0;34m}\u001b[0m\u001b[0;34m\u001b[0m\u001b[0;34m\u001b[0m\u001b[0m\n\u001b[0m\u001b[1;32m    585\u001b[0m \u001b[0;34m\u001b[0m\u001b[0m\n\u001b[1;32m    586\u001b[0m     \u001b[0;32melif\u001b[0m \u001b[0misinstance\u001b[0m\u001b[0;34m(\u001b[0m\u001b[0mright\u001b[0m\u001b[0;34m,\u001b[0m \u001b[0mABCSeries\u001b[0m\u001b[0;34m)\u001b[0m\u001b[0;34m:\u001b[0m\u001b[0;34m\u001b[0m\u001b[0;34m\u001b[0m\u001b[0m\n",
      "\u001b[0;32m~/anaconda3/lib/python3.7/site-packages/pandas/core/ops/__init__.py\u001b[0m in \u001b[0;36mwrapper\u001b[0;34m(left, right)\u001b[0m\n\u001b[1;32m   1046\u001b[0m \u001b[0;34m\u001b[0m\u001b[0m\n\u001b[1;32m   1047\u001b[0m         \u001b[0;32mwith\u001b[0m \u001b[0mnp\u001b[0m\u001b[0;34m.\u001b[0m\u001b[0merrstate\u001b[0m\u001b[0;34m(\u001b[0m\u001b[0mall\u001b[0m\u001b[0;34m=\u001b[0m\u001b[0;34m\"ignore\"\u001b[0m\u001b[0;34m)\u001b[0m\u001b[0;34m:\u001b[0m\u001b[0;34m\u001b[0m\u001b[0;34m\u001b[0m\u001b[0m\n\u001b[0;32m-> 1048\u001b[0;31m             \u001b[0mresult\u001b[0m \u001b[0;34m=\u001b[0m \u001b[0mna_op\u001b[0m\u001b[0;34m(\u001b[0m\u001b[0mlvalues\u001b[0m\u001b[0;34m,\u001b[0m \u001b[0mrvalues\u001b[0m\u001b[0;34m)\u001b[0m\u001b[0;34m\u001b[0m\u001b[0;34m\u001b[0m\u001b[0m\n\u001b[0m\u001b[1;32m   1049\u001b[0m         return construct_result(\n\u001b[1;32m   1050\u001b[0m             \u001b[0mleft\u001b[0m\u001b[0;34m,\u001b[0m \u001b[0mresult\u001b[0m\u001b[0;34m,\u001b[0m \u001b[0mindex\u001b[0m\u001b[0;34m=\u001b[0m\u001b[0mleft\u001b[0m\u001b[0;34m.\u001b[0m\u001b[0mindex\u001b[0m\u001b[0;34m,\u001b[0m \u001b[0mname\u001b[0m\u001b[0;34m=\u001b[0m\u001b[0mres_name\u001b[0m\u001b[0;34m,\u001b[0m \u001b[0mdtype\u001b[0m\u001b[0;34m=\u001b[0m\u001b[0;32mNone\u001b[0m\u001b[0;34m\u001b[0m\u001b[0;34m\u001b[0m\u001b[0m\n",
      "\u001b[0;32m~/anaconda3/lib/python3.7/site-packages/pandas/core/ops/__init__.py\u001b[0m in \u001b[0;36mna_op\u001b[0;34m(x, y)\u001b[0m\n\u001b[1;32m    968\u001b[0m             \u001b[0mresult\u001b[0m \u001b[0;34m=\u001b[0m \u001b[0mexpressions\u001b[0m\u001b[0;34m.\u001b[0m\u001b[0mevaluate\u001b[0m\u001b[0;34m(\u001b[0m\u001b[0mop\u001b[0m\u001b[0;34m,\u001b[0m \u001b[0mstr_rep\u001b[0m\u001b[0;34m,\u001b[0m \u001b[0mx\u001b[0m\u001b[0;34m,\u001b[0m \u001b[0my\u001b[0m\u001b[0;34m,\u001b[0m \u001b[0;34m**\u001b[0m\u001b[0meval_kwargs\u001b[0m\u001b[0;34m)\u001b[0m\u001b[0;34m\u001b[0m\u001b[0;34m\u001b[0m\u001b[0m\n\u001b[1;32m    969\u001b[0m         \u001b[0;32mexcept\u001b[0m \u001b[0mTypeError\u001b[0m\u001b[0;34m:\u001b[0m\u001b[0;34m\u001b[0m\u001b[0;34m\u001b[0m\u001b[0m\n\u001b[0;32m--> 970\u001b[0;31m             \u001b[0mresult\u001b[0m \u001b[0;34m=\u001b[0m \u001b[0mmasked_arith_op\u001b[0m\u001b[0;34m(\u001b[0m\u001b[0mx\u001b[0m\u001b[0;34m,\u001b[0m \u001b[0my\u001b[0m\u001b[0;34m,\u001b[0m \u001b[0mop\u001b[0m\u001b[0;34m)\u001b[0m\u001b[0;34m\u001b[0m\u001b[0;34m\u001b[0m\u001b[0m\n\u001b[0m\u001b[1;32m    971\u001b[0m \u001b[0;34m\u001b[0m\u001b[0m\n\u001b[1;32m    972\u001b[0m         \u001b[0;32mreturn\u001b[0m \u001b[0mmissing\u001b[0m\u001b[0;34m.\u001b[0m\u001b[0mdispatch_fill_zeros\u001b[0m\u001b[0;34m(\u001b[0m\u001b[0mop\u001b[0m\u001b[0;34m,\u001b[0m \u001b[0mx\u001b[0m\u001b[0;34m,\u001b[0m \u001b[0my\u001b[0m\u001b[0;34m,\u001b[0m \u001b[0mresult\u001b[0m\u001b[0;34m)\u001b[0m\u001b[0;34m\u001b[0m\u001b[0;34m\u001b[0m\u001b[0m\n",
      "\u001b[0;32m~/anaconda3/lib/python3.7/site-packages/pandas/core/ops/__init__.py\u001b[0m in \u001b[0;36mmasked_arith_op\u001b[0;34m(x, y, op)\u001b[0m\n\u001b[1;32m    462\u001b[0m         \u001b[0;32mif\u001b[0m \u001b[0mmask\u001b[0m\u001b[0;34m.\u001b[0m\u001b[0many\u001b[0m\u001b[0;34m(\u001b[0m\u001b[0;34m)\u001b[0m\u001b[0;34m:\u001b[0m\u001b[0;34m\u001b[0m\u001b[0;34m\u001b[0m\u001b[0m\n\u001b[1;32m    463\u001b[0m             \u001b[0;32mwith\u001b[0m \u001b[0mnp\u001b[0m\u001b[0;34m.\u001b[0m\u001b[0merrstate\u001b[0m\u001b[0;34m(\u001b[0m\u001b[0mall\u001b[0m\u001b[0;34m=\u001b[0m\u001b[0;34m\"ignore\"\u001b[0m\u001b[0;34m)\u001b[0m\u001b[0;34m:\u001b[0m\u001b[0;34m\u001b[0m\u001b[0;34m\u001b[0m\u001b[0m\n\u001b[0;32m--> 464\u001b[0;31m                 \u001b[0mresult\u001b[0m\u001b[0;34m[\u001b[0m\u001b[0mmask\u001b[0m\u001b[0;34m]\u001b[0m \u001b[0;34m=\u001b[0m \u001b[0mop\u001b[0m\u001b[0;34m(\u001b[0m\u001b[0mxrav\u001b[0m\u001b[0;34m[\u001b[0m\u001b[0mmask\u001b[0m\u001b[0;34m]\u001b[0m\u001b[0;34m,\u001b[0m \u001b[0my\u001b[0m\u001b[0;34m)\u001b[0m\u001b[0;34m\u001b[0m\u001b[0;34m\u001b[0m\u001b[0m\n\u001b[0m\u001b[1;32m    465\u001b[0m \u001b[0;34m\u001b[0m\u001b[0m\n\u001b[1;32m    466\u001b[0m     \u001b[0mresult\u001b[0m\u001b[0;34m,\u001b[0m \u001b[0mchanged\u001b[0m \u001b[0;34m=\u001b[0m \u001b[0mmaybe_upcast_putmask\u001b[0m\u001b[0;34m(\u001b[0m\u001b[0mresult\u001b[0m\u001b[0;34m,\u001b[0m \u001b[0;34m~\u001b[0m\u001b[0mmask\u001b[0m\u001b[0;34m,\u001b[0m \u001b[0mnp\u001b[0m\u001b[0;34m.\u001b[0m\u001b[0mnan\u001b[0m\u001b[0;34m)\u001b[0m\u001b[0;34m\u001b[0m\u001b[0;34m\u001b[0m\u001b[0m\n",
      "\u001b[0;31mTypeError\u001b[0m: unsupported operand type(s) for -: 'list' and 'float'"
     ]
    }
   ],
   "source": [
    "def calculateMahalanobis(y=None, data=None, cov=None):\n",
    "  \n",
    "    y_mu = y - np.mean(data)\n",
    "    if not cov:\n",
    "        cov = np.cov(data.values.T)\n",
    "    inv_covmat = np.linalg.inv(cov)\n",
    "    left = np.dot(y_mu, inv_covmat)\n",
    "    mahal = np.dot(left, y_mu.T)\n",
    "    return mahal.diagonal()\n",
    "  \n",
    "# create new column in dataframe that contains \n",
    "# Mahalanobis distance for each row\n",
    "future['calculateMahalanobis'] = calculateMahalanobis(y=future, data=p, cov=cov_matrix)"
   ]
  },
  {
   "cell_type": "code",
   "execution_count": null,
   "metadata": {},
   "outputs": [],
   "source": [
    "for i in range(len(future)):\n",
    "    a = mahalanobis(future.at[i,\"all_values\"],future.at[i,\"all_values\"],cov_matrix)"
   ]
  },
  {
   "cell_type": "code",
   "execution_count": null,
   "metadata": {},
   "outputs": [],
   "source": [
    "\n",
    "\n",
    "def mahalanobisR(X,meanCol,IC):\n",
    "    m = []\n",
    "    for i in range(X.shape[0]):\n",
    "        m.append(mahalanobis(X.iloc[i,:],meanCol,IC) ** 2)\n",
    "    return(m)\n",
    "\n",
    "mR = mahalanobisR(x,mean,Sx)"
   ]
  },
  {
   "cell_type": "code",
   "execution_count": null,
   "metadata": {},
   "outputs": [],
   "source": [
    "future.columns"
   ]
  },
  {
   "cell_type": "code",
   "execution_count": null,
   "metadata": {},
   "outputs": [],
   "source": [
    "\n",
    "\n",
    "var_z500_past = past[\"Z500\"].var()\n",
    "var_dz500dx_past = past[\"dZ500/dx\"].var()\n",
    "var_dz500dy_past = past[\"dZ500/dy\"].var()\n",
    "\n",
    "var_z500_future = future[\"z500\"].var()\n",
    "var_dz500dx_future = future[\"dZ500/dx\"].var()\n",
    "var_dz500dy_future = future[\"dZ500/dy\"].var()"
   ]
  },
  {
   "cell_type": "code",
   "execution_count": null,
   "metadata": {},
   "outputs": [],
   "source": []
  }
 ],
 "metadata": {
  "kernelspec": {
   "display_name": "Python 3",
   "language": "python",
   "name": "python3"
  },
  "language_info": {
   "codemirror_mode": {
    "name": "ipython",
    "version": 3
   },
   "file_extension": ".py",
   "mimetype": "text/x-python",
   "name": "python",
   "nbconvert_exporter": "python",
   "pygments_lexer": "ipython3",
   "version": "3.7.4"
  }
 },
 "nbformat": 4,
 "nbformat_minor": 5
}
